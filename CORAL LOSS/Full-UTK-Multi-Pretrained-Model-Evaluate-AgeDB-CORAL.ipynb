{
 "cells": [
  {
   "cell_type": "code",
   "execution_count": 1,
   "metadata": {
    "colab": {
     "base_uri": "https://localhost:8080/"
    },
    "executionInfo": {
     "elapsed": 453,
     "status": "ok",
     "timestamp": 1630180436934,
     "user": {
      "displayName": "CSE499 Polymorphs",
      "photoUrl": "",
      "userId": "18372209323855850046"
     },
     "user_tz": -360
    },
    "id": "1sCSm1yBLam3",
    "outputId": "6fa5df35-53d5-4a52-b9e5-0674dec17886"
   },
   "outputs": [
    {
     "name": "stdout",
     "output_type": "stream",
     "text": [
      "Fri Sep 17 00:56:30 2021       \n",
      "+-----------------------------------------------------------------------------+\n",
      "| NVIDIA-SMI 471.96       Driver Version: 471.96       CUDA Version: 11.4     |\n",
      "|-------------------------------+----------------------+----------------------+\n",
      "| GPU  Name            TCC/WDDM | Bus-Id        Disp.A | Volatile Uncorr. ECC |\n",
      "| Fan  Temp  Perf  Pwr:Usage/Cap|         Memory-Usage | GPU-Util  Compute M. |\n",
      "|                               |                      |               MIG M. |\n",
      "|===============================+======================+======================|\n",
      "|   0  NVIDIA GeForce ... WDDM  | 00000000:01:00.0 Off |                  N/A |\n",
      "| N/A    0C    P8    N/A /  N/A |     37MiB /  2048MiB |      1%      Default |\n",
      "|                               |                      |                  N/A |\n",
      "+-------------------------------+----------------------+----------------------+\n",
      "                                                                               \n",
      "+-----------------------------------------------------------------------------+\n",
      "| Processes:                                                                  |\n",
      "|  GPU   GI   CI        PID   Type   Process name                  GPU Memory |\n",
      "|        ID   ID                                                   Usage      |\n",
      "|=============================================================================|\n",
      "|  No running processes found                                                 |\n",
      "+-----------------------------------------------------------------------------+\n"
     ]
    }
   ],
   "source": [
    "!nvidia-smi"
   ]
  },
  {
   "cell_type": "code",
   "execution_count": 2,
   "metadata": {
    "id": "eVYPkc9E3b10"
   },
   "outputs": [],
   "source": [
    "import os\n",
    "import time\n",
    "import pandas as pd\n",
    "import numpy as np\n",
    "import torch\n",
    "import torch.nn as nn\n",
    "import torch.nn.functional as F\n",
    "\n",
    "from torch.utils.data import Dataset\n",
    "from torch.utils.data import DataLoader\n",
    "from torch.utils.data import random_split\n",
    "\n",
    "from torchvision import transforms\n",
    "from PIL import Image\n",
    "from tqdm.auto import tqdm\n",
    "import matplotlib.pyplot as plt\n",
    "from collections import Counter\n",
    "import torchvision.models as models\n",
    "from collections import OrderedDict\n",
    "torch.autograd.set_detect_anomaly(True)\n",
    "import copy\n",
    "import datetime\n",
    "import pytz"
   ]
  },
  {
   "cell_type": "code",
   "execution_count": 3,
   "metadata": {
    "id": "YVbXEcusLdzR"
   },
   "outputs": [],
   "source": [
    "# from google.colab import drive\n",
    "# drive.mount('/content/drive')"
   ]
  },
  {
   "cell_type": "code",
   "execution_count": 4,
   "metadata": {
    "id": "h-at6gKB9Y7-"
   },
   "outputs": [],
   "source": [
    "TEST_CSV_PATH = 'datasets/AgeDB/csv/AgeDB_final_1-101_class-97-label-0-96-final-with-solved-corrupted-files.csv'\n",
    "IMAGE_PATH_TEST = 'E:/AgeDB-images-with-solved-corrupted-files/'\n",
    "\n",
    "PATH = 'Models_and_Logs/Full-UTK-CORAL_ResNet34-Pretrained-Finetuned_100%-EPOCHS-200-withourLRS'\n",
    "\n",
    "RANDOM_SEED = 42\n",
    "NUM_CLASSES = 97\n",
    "BATCH_SIZE = 128\n",
    "GRAYSCALE = False\n",
    "NUM_WORKERS = 0"
   ]
  },
  {
   "cell_type": "code",
   "execution_count": 5,
   "metadata": {
    "id": "4DWSmbJ3-FVo"
   },
   "outputs": [],
   "source": [
    "# GPU or CPU\n",
    "DEVICE = torch.device('cuda') if torch.cuda.is_available() else torch.device('cpu')"
   ]
  },
  {
   "cell_type": "code",
   "execution_count": 6,
   "metadata": {
    "id": "Ues9nF1sCRB5"
   },
   "outputs": [],
   "source": [
    "# Log File\n",
    "if not os.path.exists(PATH): os.mkdir(PATH)\n",
    "LOGFILE = os.path.join(PATH, 'evaluation_AgeDB.log')"
   ]
  },
  {
   "cell_type": "code",
   "execution_count": 7,
   "metadata": {
    "id": "dvLgbCcoAzaT"
   },
   "outputs": [],
   "source": [
    "header = []\n",
    "timezone = pytz.timezone('Asia/Dhaka')\n",
    "header.append(f'\\n\\n\\nLast Run: {datetime.datetime.now(timezone)}')\n",
    "header.append(f'PyTorch Version: {torch.__version__}')\n",
    "header.append(f'CUDA device available: {torch.cuda.is_available()}')\n",
    "header.append(f'Using CUDA device: {DEVICE}')\n",
    "header.append(f'Random Seed: {RANDOM_SEED}')\n",
    "header.append(f'NUM WORKERS: {NUM_WORKERS}')\n",
    "header.append(f'Output Path: {PATH}')\n",
    "header.append(f'-------------------HyperParameters---------------')\n",
    "header.append(f'No. of Classes: {NUM_CLASSES}')\n",
    "header.append(f'Batch size: {BATCH_SIZE}')\n",
    "header.append(f'Grayscale: {GRAYSCALE}')\n",
    "header.append(f'\\n-------------------EVALUATION RESULTS---------------')"
   ]
  },
  {
   "cell_type": "code",
   "execution_count": 8,
   "metadata": {
    "colab": {
     "base_uri": "https://localhost:8080/"
    },
    "executionInfo": {
     "elapsed": 32,
     "status": "ok",
     "timestamp": 1630180437916,
     "user": {
      "displayName": "CSE499 Polymorphs",
      "photoUrl": "",
      "userId": "18372209323855850046"
     },
     "user_tz": -360
    },
    "id": "fYKvLI5T9ARe",
    "outputId": "51baaae1-b3c4-4140-f4b1-8e895e94e75e"
   },
   "outputs": [
    {
     "name": "stdout",
     "output_type": "stream",
     "text": [
      "\n",
      "\n",
      "\n",
      "Last Run: 2021-09-17 00:56:44.303873+06:00\n",
      "PyTorch Version: 1.9.0+cu102\n",
      "CUDA device available: True\n",
      "Using CUDA device: cuda\n",
      "Random Seed: 42\n",
      "NUM WORKERS: 0\n",
      "Output Path: Models_and_Logs/Full-UTK-CORAL_ResNet34-Pretrained-Finetuned_100%-EPOCHS-200-withourLRS\n",
      "-------------------HyperParameters---------------\n",
      "No. of Classes: 97\n",
      "Batch size: 128\n",
      "Grayscale: False\n",
      "\n",
      "-------------------EVALUATION RESULTS---------------\n"
     ]
    }
   ],
   "source": [
    "for entry in header:\n",
    "  print(entry)"
   ]
  },
  {
   "cell_type": "code",
   "execution_count": 9,
   "metadata": {
    "id": "k58Rk4wpA0ZR"
   },
   "outputs": [],
   "source": [
    "with open(LOGFILE, 'a') as f:\n",
    "    for entry in header:\n",
    "        f.write(f'{entry}\\n')\n",
    "        f.flush()"
   ]
  },
  {
   "cell_type": "markdown",
   "metadata": {
    "id": "sPMn1Hv7EM_y"
   },
   "source": [
    "# Dataset"
   ]
  },
  {
   "cell_type": "code",
   "execution_count": 10,
   "metadata": {
    "colab": {
     "base_uri": "https://localhost:8080/",
     "height": 447
    },
    "executionInfo": {
     "elapsed": 40,
     "status": "ok",
     "timestamp": 1630180437928,
     "user": {
      "displayName": "CSE499 Polymorphs",
      "photoUrl": "",
      "userId": "18372209323855850046"
     },
     "user_tz": -360
    },
    "id": "F62TP3rRO6MA",
    "outputId": "9c3cc2b0-57b8-4c6d-d7ab-75edbdb9a0fd"
   },
   "outputs": [
    {
     "data": {
      "text/html": [
       "<div>\n",
       "<style scoped>\n",
       "    .dataframe tbody tr th:only-of-type {\n",
       "        vertical-align: middle;\n",
       "    }\n",
       "\n",
       "    .dataframe tbody tr th {\n",
       "        vertical-align: top;\n",
       "    }\n",
       "\n",
       "    .dataframe thead th {\n",
       "        text-align: right;\n",
       "    }\n",
       "</style>\n",
       "<table border=\"1\" class=\"dataframe\">\n",
       "  <thead>\n",
       "    <tr style=\"text-align: right;\">\n",
       "      <th></th>\n",
       "      <th>file</th>\n",
       "      <th>label</th>\n",
       "    </tr>\n",
       "    <tr>\n",
       "      <th>age</th>\n",
       "      <th></th>\n",
       "      <th></th>\n",
       "    </tr>\n",
       "  </thead>\n",
       "  <tbody>\n",
       "    <tr>\n",
       "      <th>35</th>\n",
       "      <td>0_MariaCallas_35_f.jpg</td>\n",
       "      <td>33</td>\n",
       "    </tr>\n",
       "    <tr>\n",
       "      <th>40</th>\n",
       "      <td>1_MariaCallas_40_f.jpg</td>\n",
       "      <td>38</td>\n",
       "    </tr>\n",
       "    <tr>\n",
       "      <th>28</th>\n",
       "      <td>10_MariaCallas_28_f.jpg</td>\n",
       "      <td>26</td>\n",
       "    </tr>\n",
       "    <tr>\n",
       "      <th>52</th>\n",
       "      <td>100_PaulAnka_52_m.jpg</td>\n",
       "      <td>50</td>\n",
       "    </tr>\n",
       "    <tr>\n",
       "      <th>1</th>\n",
       "      <td>1000_StephenHawking_1_m.jpg</td>\n",
       "      <td>0</td>\n",
       "    </tr>\n",
       "    <tr>\n",
       "      <th>...</th>\n",
       "      <td>...</td>\n",
       "      <td>...</td>\n",
       "    </tr>\n",
       "    <tr>\n",
       "      <th>54</th>\n",
       "      <td>9995_GlennClose_54_f.jpg</td>\n",
       "      <td>52</td>\n",
       "    </tr>\n",
       "    <tr>\n",
       "      <th>56</th>\n",
       "      <td>9996_GlennClose_56_f.jpg</td>\n",
       "      <td>54</td>\n",
       "    </tr>\n",
       "    <tr>\n",
       "      <th>58</th>\n",
       "      <td>9997_GlennClose_58_f.jpg</td>\n",
       "      <td>56</td>\n",
       "    </tr>\n",
       "    <tr>\n",
       "      <th>59</th>\n",
       "      <td>9998_GlennClose_59_f.jpg</td>\n",
       "      <td>57</td>\n",
       "    </tr>\n",
       "    <tr>\n",
       "      <th>61</th>\n",
       "      <td>9999_GlennClose_61_f.jpg</td>\n",
       "      <td>59</td>\n",
       "    </tr>\n",
       "  </tbody>\n",
       "</table>\n",
       "<p>16478 rows × 2 columns</p>\n",
       "</div>"
      ],
      "text/plain": [
       "                            file  label\n",
       "age                                    \n",
       "35        0_MariaCallas_35_f.jpg     33\n",
       "40        1_MariaCallas_40_f.jpg     38\n",
       "28       10_MariaCallas_28_f.jpg     26\n",
       "52         100_PaulAnka_52_m.jpg     50\n",
       "1    1000_StephenHawking_1_m.jpg      0\n",
       "..                           ...    ...\n",
       "54      9995_GlennClose_54_f.jpg     52\n",
       "56      9996_GlennClose_56_f.jpg     54\n",
       "58      9997_GlennClose_58_f.jpg     56\n",
       "59      9998_GlennClose_59_f.jpg     57\n",
       "61      9999_GlennClose_61_f.jpg     59\n",
       "\n",
       "[16478 rows x 2 columns]"
      ]
     },
     "execution_count": 10,
     "metadata": {},
     "output_type": "execute_result"
    }
   ],
   "source": [
    "df = pd.read_csv(TEST_CSV_PATH, index_col=1)\n",
    "df"
   ]
  },
  {
   "cell_type": "code",
   "execution_count": 11,
   "metadata": {
    "id": "efWuaBb8CYi0"
   },
   "outputs": [],
   "source": [
    "class AgeDBDataset(Dataset):\n",
    "    \"\"\"Custom Dataset for loading AgeDB face images\"\"\"\n",
    "    def __init__(self, csv_path, img_dir, transform=None, items=None):\n",
    "\n",
    "        df = pd.read_csv(csv_path)\n",
    "        df['index'] = range(0, len(df))\n",
    "        df = df.set_index('index')\n",
    "        \n",
    "        if items:\n",
    "          df=df[:items]\n",
    "        self.img_dir = img_dir\n",
    "        self.csv_path = csv_path\n",
    "        self.img_names = df['file'].values\n",
    "        # print(type(self.img_names))\n",
    "        self.y = df['label'].values\n",
    "        self.age = df['age'].values\n",
    "        self.transform = transform\n",
    "\n",
    "    def __getitem__(self, index):\n",
    "        img = Image.open(os.path.join(self.img_dir, self.img_names[index]))\n",
    "        img = img.convert('RGB')\n",
    "\n",
    "        if self.transform is not None:\n",
    "            img = self.transform(img)\n",
    "\n",
    "        label = self.y[index]\n",
    "        levels = [1]*label + [0]*(NUM_CLASSES - 1 - label)\n",
    "        levels = torch.tensor(levels, dtype=torch.float32)\n",
    "\n",
    "        return img, label, levels\n",
    "\n",
    "    def __len__(self):\n",
    "        return self.y.shape[0]"
   ]
  },
  {
   "cell_type": "code",
   "execution_count": 12,
   "metadata": {
    "id": "7AuQwbC4EP33"
   },
   "outputs": [],
   "source": [
    "custom_transform_test = transforms.Compose([transforms.Resize((256, 256)),\n",
    "                                        transforms.CenterCrop((224, 224)),\n",
    "                                        transforms.ToTensor()])\n",
    "\n",
    "test_dataset = AgeDBDataset(csv_path=TEST_CSV_PATH,\n",
    "                              img_dir=IMAGE_PATH_TEST,\n",
    "                              transform=custom_transform_test,\n",
    "                              items = None\n",
    "                            )"
   ]
  },
  {
   "cell_type": "markdown",
   "metadata": {
    "id": "W1hj9JmpEGcU"
   },
   "source": [
    "# Dataset Entity Distribution Analysis"
   ]
  },
  {
   "cell_type": "code",
   "execution_count": 13,
   "metadata": {
    "id": "VlYP5C9nC51t"
   },
   "outputs": [],
   "source": [
    "def dataset_analysis(d):\n",
    "  counter_label = Counter(np.sort(d.y))\n",
    "  counter_age = Counter(np.sort(d.age))\n",
    "\n",
    "  plt.scatter(counter_age.keys(), counter_age.values(), s=10, c='black')\n",
    "  plt.xlabel('Ages')\n",
    "  plt.ylabel('Num of images per Age')\n",
    "  plt.title('Entity Distribution Analysis')\n",
    "  plt.grid()\n",
    "  plt.show()\n",
    "  \n",
    "  print(\"label\\t\\tAge\\t\\tCount\")\n",
    "  for (label, key, value) in zip(counter_label.keys(), counter_age.keys(), counter_age.values()):\n",
    "    print(label,'\\t\\t',key,'\\t\\t', value)\n",
    "\n",
    "  print(torch.from_numpy(d.age).bincount())\n",
    "  print('length of the dataset is: ', len(d))"
   ]
  },
  {
   "cell_type": "code",
   "execution_count": 14,
   "metadata": {
    "colab": {
     "base_uri": "https://localhost:8080/",
     "height": 1000
    },
    "executionInfo": {
     "elapsed": 549,
     "status": "ok",
     "timestamp": 1630180438445,
     "user": {
      "displayName": "CSE499 Polymorphs",
      "photoUrl": "",
      "userId": "18372209323855850046"
     },
     "user_tz": -360
    },
    "id": "VDjHoI2JVLc_",
    "outputId": "399805e7-dd54-4631-c6c9-2431ba95107c"
   },
   "outputs": [
    {
     "data": {
      "image/png": "[encoded data removed]",
      "text/plain": [
       "<Figure size 432x288 with 1 Axes>"
      ]
     },
     "metadata": {
      "needs_background": "light"
     },
     "output_type": "display_data"
    },
    {
     "name": "stdout",
     "output_type": "stream",
     "text": [
      "label\t\tAge\t\tCount\n",
      "0 \t\t 1 \t\t 1\n",
      "1 \t\t 3 \t\t 8\n",
      "2 \t\t 4 \t\t 2\n",
      "3 \t\t 5 \t\t 4\n",
      "4 \t\t 6 \t\t 8\n",
      "5 \t\t 7 \t\t 11\n",
      "6 \t\t 8 \t\t 8\n",
      "7 \t\t 9 \t\t 6\n",
      "8 \t\t 10 \t\t 13\n",
      "9 \t\t 11 \t\t 20\n",
      "10 \t\t 12 \t\t 14\n",
      "11 \t\t 13 \t\t 22\n",
      "12 \t\t 14 \t\t 23\n",
      "13 \t\t 15 \t\t 43\n",
      "14 \t\t 16 \t\t 52\n",
      "15 \t\t 17 \t\t 82\n",
      "16 \t\t 18 \t\t 120\n",
      "17 \t\t 19 \t\t 110\n",
      "18 \t\t 20 \t\t 161\n",
      "19 \t\t 21 \t\t 163\n",
      "20 \t\t 22 \t\t 183\n",
      "21 \t\t 23 \t\t 212\n",
      "22 \t\t 24 \t\t 259\n",
      "23 \t\t 25 \t\t 284\n",
      "24 \t\t 26 \t\t 275\n",
      "25 \t\t 27 \t\t 304\n",
      "26 \t\t 28 \t\t 347\n",
      "27 \t\t 29 \t\t 313\n",
      "28 \t\t 30 \t\t 385\n",
      "29 \t\t 31 \t\t 316\n",
      "30 \t\t 32 \t\t 378\n",
      "31 \t\t 33 \t\t 338\n",
      "32 \t\t 34 \t\t 362\n",
      "33 \t\t 35 \t\t 413\n",
      "34 \t\t 36 \t\t 347\n",
      "35 \t\t 37 \t\t 370\n",
      "36 \t\t 38 \t\t 382\n",
      "37 \t\t 39 \t\t 321\n",
      "38 \t\t 40 \t\t 386\n",
      "39 \t\t 41 \t\t 320\n",
      "40 \t\t 42 \t\t 356\n",
      "41 \t\t 43 \t\t 325\n",
      "42 \t\t 44 \t\t 281\n",
      "43 \t\t 45 \t\t 342\n",
      "44 \t\t 46 \t\t 287\n",
      "45 \t\t 47 \t\t 289\n",
      "46 \t\t 48 \t\t 311\n",
      "47 \t\t 49 \t\t 267\n",
      "48 \t\t 50 \t\t 317\n",
      "49 \t\t 51 \t\t 287\n",
      "50 \t\t 52 \t\t 310\n",
      "51 \t\t 53 \t\t 250\n",
      "52 \t\t 54 \t\t 258\n",
      "53 \t\t 55 \t\t 294\n",
      "54 \t\t 56 \t\t 227\n",
      "55 \t\t 57 \t\t 243\n",
      "56 \t\t 58 \t\t 246\n",
      "57 \t\t 59 \t\t 213\n",
      "58 \t\t 60 \t\t 245\n",
      "59 \t\t 61 \t\t 207\n",
      "60 \t\t 62 \t\t 238\n",
      "61 \t\t 63 \t\t 218\n",
      "62 \t\t 64 \t\t 193\n",
      "63 \t\t 65 \t\t 231\n",
      "64 \t\t 66 \t\t 177\n",
      "65 \t\t 67 \t\t 177\n",
      "66 \t\t 68 \t\t 215\n",
      "67 \t\t 69 \t\t 150\n",
      "68 \t\t 70 \t\t 216\n",
      "69 \t\t 71 \t\t 145\n",
      "70 \t\t 72 \t\t 175\n",
      "71 \t\t 73 \t\t 156\n",
      "72 \t\t 74 \t\t 138\n",
      "73 \t\t 75 \t\t 158\n",
      "74 \t\t 76 \t\t 109\n",
      "75 \t\t 77 \t\t 104\n",
      "76 \t\t 78 \t\t 106\n",
      "77 \t\t 79 \t\t 76\n",
      "78 \t\t 80 \t\t 91\n",
      "79 \t\t 81 \t\t 76\n",
      "80 \t\t 82 \t\t 68\n",
      "81 \t\t 83 \t\t 57\n",
      "82 \t\t 84 \t\t 43\n",
      "83 \t\t 85 \t\t 58\n",
      "84 \t\t 86 \t\t 35\n",
      "85 \t\t 87 \t\t 30\n",
      "86 \t\t 88 \t\t 21\n",
      "87 \t\t 89 \t\t 19\n",
      "88 \t\t 90 \t\t 19\n",
      "89 \t\t 91 \t\t 17\n",
      "90 \t\t 92 \t\t 11\n",
      "91 \t\t 93 \t\t 15\n",
      "92 \t\t 95 \t\t 9\n",
      "93 \t\t 96 \t\t 2\n",
      "94 \t\t 99 \t\t 1\n",
      "95 \t\t 100 \t\t 2\n",
      "96 \t\t 101 \t\t 1\n",
      "tensor([  0,   1,   0,   8,   2,   4,   8,  11,   8,   6,  13,  20,  14,  22,\n",
      "         23,  43,  52,  82, 120, 110, 161, 163, 183, 212, 259, 284, 275, 304,\n",
      "        347, 313, 385, 316, 378, 338, 362, 413, 347, 370, 382, 321, 386, 320,\n",
      "        356, 325, 281, 342, 287, 289, 311, 267, 317, 287, 310, 250, 258, 294,\n",
      "        227, 243, 246, 213, 245, 207, 238, 218, 193, 231, 177, 177, 215, 150,\n",
      "        216, 145, 175, 156, 138, 158, 109, 104, 106,  76,  91,  76,  68,  57,\n",
      "         43,  58,  35,  30,  21,  19,  19,  17,  11,  15,   0,   9,   2,   0,\n",
      "          0,   1,   2,   1])\n",
      "length of the dataset is:  16478\n"
     ]
    }
   ],
   "source": [
    "dataset_analysis(test_dataset)"
   ]
  },
  {
   "cell_type": "markdown",
   "metadata": {
    "id": "kcD7xNPZzlXC",
    "tags": []
   },
   "source": [
    "# Dataset Loader"
   ]
  },
  {
   "cell_type": "code",
   "execution_count": 15,
   "metadata": {
    "id": "Jrz8SJsZzpFE"
   },
   "outputs": [],
   "source": [
    "test_loader = DataLoader(dataset=test_dataset,\n",
    "                         batch_size=BATCH_SIZE,\n",
    "                         shuffle=False,\n",
    "                         num_workers=NUM_WORKERS)"
   ]
  },
  {
   "cell_type": "code",
   "execution_count": 16,
   "metadata": {
    "colab": {
     "base_uri": "https://localhost:8080/"
    },
    "executionInfo": {
     "elapsed": 18,
     "status": "ok",
     "timestamp": 1630180438449,
     "user": {
      "displayName": "CSE499 Polymorphs",
      "photoUrl": "",
      "userId": "18372209323855850046"
     },
     "user_tz": -360
    },
    "id": "Vbhrgd-52MCu",
    "outputId": "6e441291-d7f7-46e7-a7b4-2e85195ac5cf"
   },
   "outputs": [
    {
     "name": "stdout",
     "output_type": "stream",
     "text": [
      "No. of Batches for AgeDB: 129\n"
     ]
    }
   ],
   "source": [
    "print(f\"No. of Batches for AgeDB: {len(test_loader)}\")"
   ]
  },
  {
   "cell_type": "markdown",
   "metadata": {
    "id": "OjxIloD3wxKS",
    "jp-MarkdownHeadingCollapsed": true,
    "tags": []
   },
   "source": [
    "# Initialize Model, and Optimizer"
   ]
  },
  {
   "cell_type": "code",
   "execution_count": 17,
   "metadata": {
    "id": "ZoIklH-mJxjo"
   },
   "outputs": [
    {
     "name": "stdout",
     "output_type": "stream",
     "text": [
      "ResNet(\n",
      "  (conv1): Conv2d(3, 64, kernel_size=(7, 7), stride=(2, 2), padding=(3, 3), bias=False)\n",
      "  (bn1): BatchNorm2d(64, eps=1e-05, momentum=0.1, affine=True, track_running_stats=True)\n",
      "  (relu): ReLU(inplace=True)\n",
      "  (maxpool): MaxPool2d(kernel_size=3, stride=2, padding=1, dilation=1, ceil_mode=False)\n",
      "  (layer1): Sequential(\n",
      "    (0): BasicBlock(\n",
      "      (conv1): Conv2d(64, 64, kernel_size=(3, 3), stride=(1, 1), padding=(1, 1), bias=False)\n",
      "      (bn1): BatchNorm2d(64, eps=1e-05, momentum=0.1, affine=True, track_running_stats=True)\n",
      "      (relu): ReLU(inplace=True)\n",
      "      (conv2): Conv2d(64, 64, kernel_size=(3, 3), stride=(1, 1), padding=(1, 1), bias=False)\n",
      "      (bn2): BatchNorm2d(64, eps=1e-05, momentum=0.1, affine=True, track_running_stats=True)\n",
      "    )\n",
      "    (1): BasicBlock(\n",
      "      (conv1): Conv2d(64, 64, kernel_size=(3, 3), stride=(1, 1), padding=(1, 1), bias=False)\n",
      "      (bn1): BatchNorm2d(64, eps=1e-05, momentum=0.1, affine=True, track_running_stats=True)\n",
      "      (relu): ReLU(inplace=True)\n",
      "      (conv2): Conv2d(64, 64, kernel_size=(3, 3), stride=(1, 1), padding=(1, 1), bias=False)\n",
      "      (bn2): BatchNorm2d(64, eps=1e-05, momentum=0.1, affine=True, track_running_stats=True)\n",
      "    )\n",
      "    (2): BasicBlock(\n",
      "      (conv1): Conv2d(64, 64, kernel_size=(3, 3), stride=(1, 1), padding=(1, 1), bias=False)\n",
      "      (bn1): BatchNorm2d(64, eps=1e-05, momentum=0.1, affine=True, track_running_stats=True)\n",
      "      (relu): ReLU(inplace=True)\n",
      "      (conv2): Conv2d(64, 64, kernel_size=(3, 3), stride=(1, 1), padding=(1, 1), bias=False)\n",
      "      (bn2): BatchNorm2d(64, eps=1e-05, momentum=0.1, affine=True, track_running_stats=True)\n",
      "    )\n",
      "  )\n",
      "  (layer2): Sequential(\n",
      "    (0): BasicBlock(\n",
      "      (conv1): Conv2d(64, 128, kernel_size=(3, 3), stride=(2, 2), padding=(1, 1), bias=False)\n",
      "      (bn1): BatchNorm2d(128, eps=1e-05, momentum=0.1, affine=True, track_running_stats=True)\n",
      "      (relu): ReLU(inplace=True)\n",
      "      (conv2): Conv2d(128, 128, kernel_size=(3, 3), stride=(1, 1), padding=(1, 1), bias=False)\n",
      "      (bn2): BatchNorm2d(128, eps=1e-05, momentum=0.1, affine=True, track_running_stats=True)\n",
      "      (downsample): Sequential(\n",
      "        (0): Conv2d(64, 128, kernel_size=(1, 1), stride=(2, 2), bias=False)\n",
      "        (1): BatchNorm2d(128, eps=1e-05, momentum=0.1, affine=True, track_running_stats=True)\n",
      "      )\n",
      "    )\n",
      "    (1): BasicBlock(\n",
      "      (conv1): Conv2d(128, 128, kernel_size=(3, 3), stride=(1, 1), padding=(1, 1), bias=False)\n",
      "      (bn1): BatchNorm2d(128, eps=1e-05, momentum=0.1, affine=True, track_running_stats=True)\n",
      "      (relu): ReLU(inplace=True)\n",
      "      (conv2): Conv2d(128, 128, kernel_size=(3, 3), stride=(1, 1), padding=(1, 1), bias=False)\n",
      "      (bn2): BatchNorm2d(128, eps=1e-05, momentum=0.1, affine=True, track_running_stats=True)\n",
      "    )\n",
      "    (2): BasicBlock(\n",
      "      (conv1): Conv2d(128, 128, kernel_size=(3, 3), stride=(1, 1), padding=(1, 1), bias=False)\n",
      "      (bn1): BatchNorm2d(128, eps=1e-05, momentum=0.1, affine=True, track_running_stats=True)\n",
      "      (relu): ReLU(inplace=True)\n",
      "      (conv2): Conv2d(128, 128, kernel_size=(3, 3), stride=(1, 1), padding=(1, 1), bias=False)\n",
      "      (bn2): BatchNorm2d(128, eps=1e-05, momentum=0.1, affine=True, track_running_stats=True)\n",
      "    )\n",
      "    (3): BasicBlock(\n",
      "      (conv1): Conv2d(128, 128, kernel_size=(3, 3), stride=(1, 1), padding=(1, 1), bias=False)\n",
      "      (bn1): BatchNorm2d(128, eps=1e-05, momentum=0.1, affine=True, track_running_stats=True)\n",
      "      (relu): ReLU(inplace=True)\n",
      "      (conv2): Conv2d(128, 128, kernel_size=(3, 3), stride=(1, 1), padding=(1, 1), bias=False)\n",
      "      (bn2): BatchNorm2d(128, eps=1e-05, momentum=0.1, affine=True, track_running_stats=True)\n",
      "    )\n",
      "  )\n",
      "  (layer3): Sequential(\n",
      "    (0): BasicBlock(\n",
      "      (conv1): Conv2d(128, 256, kernel_size=(3, 3), stride=(2, 2), padding=(1, 1), bias=False)\n",
      "      (bn1): BatchNorm2d(256, eps=1e-05, momentum=0.1, affine=True, track_running_stats=True)\n",
      "      (relu): ReLU(inplace=True)\n",
      "      (conv2): Conv2d(256, 256, kernel_size=(3, 3), stride=(1, 1), padding=(1, 1), bias=False)\n",
      "      (bn2): BatchNorm2d(256, eps=1e-05, momentum=0.1, affine=True, track_running_stats=True)\n",
      "      (downsample): Sequential(\n",
      "        (0): Conv2d(128, 256, kernel_size=(1, 1), stride=(2, 2), bias=False)\n",
      "        (1): BatchNorm2d(256, eps=1e-05, momentum=0.1, affine=True, track_running_stats=True)\n",
      "      )\n",
      "    )\n",
      "    (1): BasicBlock(\n",
      "      (conv1): Conv2d(256, 256, kernel_size=(3, 3), stride=(1, 1), padding=(1, 1), bias=False)\n",
      "      (bn1): BatchNorm2d(256, eps=1e-05, momentum=0.1, affine=True, track_running_stats=True)\n",
      "      (relu): ReLU(inplace=True)\n",
      "      (conv2): Conv2d(256, 256, kernel_size=(3, 3), stride=(1, 1), padding=(1, 1), bias=False)\n",
      "      (bn2): BatchNorm2d(256, eps=1e-05, momentum=0.1, affine=True, track_running_stats=True)\n",
      "    )\n",
      "    (2): BasicBlock(\n",
      "      (conv1): Conv2d(256, 256, kernel_size=(3, 3), stride=(1, 1), padding=(1, 1), bias=False)\n",
      "      (bn1): BatchNorm2d(256, eps=1e-05, momentum=0.1, affine=True, track_running_stats=True)\n",
      "      (relu): ReLU(inplace=True)\n",
      "      (conv2): Conv2d(256, 256, kernel_size=(3, 3), stride=(1, 1), padding=(1, 1), bias=False)\n",
      "      (bn2): BatchNorm2d(256, eps=1e-05, momentum=0.1, affine=True, track_running_stats=True)\n",
      "    )\n",
      "    (3): BasicBlock(\n",
      "      (conv1): Conv2d(256, 256, kernel_size=(3, 3), stride=(1, 1), padding=(1, 1), bias=False)\n",
      "      (bn1): BatchNorm2d(256, eps=1e-05, momentum=0.1, affine=True, track_running_stats=True)\n",
      "      (relu): ReLU(inplace=True)\n",
      "      (conv2): Conv2d(256, 256, kernel_size=(3, 3), stride=(1, 1), padding=(1, 1), bias=False)\n",
      "      (bn2): BatchNorm2d(256, eps=1e-05, momentum=0.1, affine=True, track_running_stats=True)\n",
      "    )\n",
      "    (4): BasicBlock(\n",
      "      (conv1): Conv2d(256, 256, kernel_size=(3, 3), stride=(1, 1), padding=(1, 1), bias=False)\n",
      "      (bn1): BatchNorm2d(256, eps=1e-05, momentum=0.1, affine=True, track_running_stats=True)\n",
      "      (relu): ReLU(inplace=True)\n",
      "      (conv2): Conv2d(256, 256, kernel_size=(3, 3), stride=(1, 1), padding=(1, 1), bias=False)\n",
      "      (bn2): BatchNorm2d(256, eps=1e-05, momentum=0.1, affine=True, track_running_stats=True)\n",
      "    )\n",
      "    (5): BasicBlock(\n",
      "      (conv1): Conv2d(256, 256, kernel_size=(3, 3), stride=(1, 1), padding=(1, 1), bias=False)\n",
      "      (bn1): BatchNorm2d(256, eps=1e-05, momentum=0.1, affine=True, track_running_stats=True)\n",
      "      (relu): ReLU(inplace=True)\n",
      "      (conv2): Conv2d(256, 256, kernel_size=(3, 3), stride=(1, 1), padding=(1, 1), bias=False)\n",
      "      (bn2): BatchNorm2d(256, eps=1e-05, momentum=0.1, affine=True, track_running_stats=True)\n",
      "    )\n",
      "  )\n",
      "  (layer4): Sequential(\n",
      "    (0): BasicBlock(\n",
      "      (conv1): Conv2d(256, 512, kernel_size=(3, 3), stride=(2, 2), padding=(1, 1), bias=False)\n",
      "      (bn1): BatchNorm2d(512, eps=1e-05, momentum=0.1, affine=True, track_running_stats=True)\n",
      "      (relu): ReLU(inplace=True)\n",
      "      (conv2): Conv2d(512, 512, kernel_size=(3, 3), stride=(1, 1), padding=(1, 1), bias=False)\n",
      "      (bn2): BatchNorm2d(512, eps=1e-05, momentum=0.1, affine=True, track_running_stats=True)\n",
      "      (downsample): Sequential(\n",
      "        (0): Conv2d(256, 512, kernel_size=(1, 1), stride=(2, 2), bias=False)\n",
      "        (1): BatchNorm2d(512, eps=1e-05, momentum=0.1, affine=True, track_running_stats=True)\n",
      "      )\n",
      "    )\n",
      "    (1): BasicBlock(\n",
      "      (conv1): Conv2d(512, 512, kernel_size=(3, 3), stride=(1, 1), padding=(1, 1), bias=False)\n",
      "      (bn1): BatchNorm2d(512, eps=1e-05, momentum=0.1, affine=True, track_running_stats=True)\n",
      "      (relu): ReLU(inplace=True)\n",
      "      (conv2): Conv2d(512, 512, kernel_size=(3, 3), stride=(1, 1), padding=(1, 1), bias=False)\n",
      "      (bn2): BatchNorm2d(512, eps=1e-05, momentum=0.1, affine=True, track_running_stats=True)\n",
      "    )\n",
      "    (2): BasicBlock(\n",
      "      (conv1): Conv2d(512, 512, kernel_size=(3, 3), stride=(1, 1), padding=(1, 1), bias=False)\n",
      "      (bn1): BatchNorm2d(512, eps=1e-05, momentum=0.1, affine=True, track_running_stats=True)\n",
      "      (relu): ReLU(inplace=True)\n",
      "      (conv2): Conv2d(512, 512, kernel_size=(3, 3), stride=(1, 1), padding=(1, 1), bias=False)\n",
      "      (bn2): BatchNorm2d(512, eps=1e-05, momentum=0.1, affine=True, track_running_stats=True)\n",
      "    )\n",
      "  )\n",
      "  (avgpool): AdaptiveAvgPool2d(output_size=(1, 1))\n",
      "  (fc): Linear(in_features=512, out_features=1, bias=False)\n",
      ")\n"
     ]
    }
   ],
   "source": [
    "torch.manual_seed(RANDOM_SEED)\n",
    "torch.cuda.manual_seed(RANDOM_SEED)\n",
    "\n",
    "\"\"\"Preparaing the model to evaluate on AgeDB\"\"\"\n",
    "model = models.resnet34(pretrained=False)\n",
    "model.fc = nn.Linear(model.fc.in_features, 1, bias=False)\n",
    "model.linear_1_bias = nn.Parameter(torch.zeros(NUM_CLASSES-1).float())\n",
    "\n",
    "print(model)"
   ]
  },
  {
   "cell_type": "markdown",
   "metadata": {
    "id": "pqN7eRujKRVs",
    "tags": []
   },
   "source": [
    "# Evaluation"
   ]
  },
  {
   "cell_type": "code",
   "execution_count": 18,
   "metadata": {
    "id": "26w9dbnIosOY"
   },
   "outputs": [],
   "source": [
    "def calculate_correct_preds(probas, targets):\n",
    "  return torch.sum(torch.max(probas, dim = 1)[1] == targets)"
   ]
  },
  {
   "cell_type": "code",
   "execution_count": 19,
   "metadata": {
    "id": "3H29Ug7Omcgi"
   },
   "outputs": [],
   "source": [
    "def compute_acc(total_num_correct_preds, num_examples):\n",
    "  return format((total_num_correct_preds/num_examples) * 100.0, '.3f')"
   ]
  },
  {
   "cell_type": "code",
   "execution_count": 20,
   "metadata": {
    "id": "DNPi0qwQKPmR"
   },
   "outputs": [],
   "source": [
    "def compute_mae_and_mse(model, data_loader, device):\n",
    "  mae, mse, num_examples, total_num_correct_preds = 0., 0., 0, 0\n",
    "  for i, (features, targets, levels) in enumerate(tqdm(data_loader)):\n",
    "          \n",
    "    targets, features = targets.to(device), features.to(device)\n",
    "    logits = model(features)\n",
    "    logits = logits + model.linear_1_bias\n",
    "    probas = torch.sigmoid(logits)\n",
    "    predict_levels = probas > 0.5\n",
    "    predicted_labels = torch.sum(predict_levels, dim=1)\n",
    "    num_correct_preds = torch.sum(predicted_labels == targets)\n",
    "    \n",
    "    total_num_correct_preds += num_correct_preds\n",
    "    num_examples += targets.size(0)\n",
    "\n",
    "    mae += torch.sum(torch.abs(predicted_labels - targets))\n",
    "    mse += torch.sum((predicted_labels - targets)**2)\n",
    "\n",
    "  print(f'total_num_correct_preds: {total_num_correct_preds}')\n",
    "  acc = compute_acc(total_num_correct_preds, num_examples)\n",
    "  mae = format(mae.float()/num_examples, '.3f')\n",
    "  mse = format(torch.sqrt(mse.float()/num_examples), '.3f')      \n",
    "\n",
    "  return mae, mse, acc"
   ]
  },
  {
   "cell_type": "markdown",
   "metadata": {
    "id": "nyzbkacXjN68"
   },
   "source": [
    "# Testing on AgeDB"
   ]
  },
  {
   "cell_type": "code",
   "execution_count": 21,
   "metadata": {
    "id": "DzVBbDrvm2jq"
   },
   "outputs": [
    {
     "data": {
      "application/vnd.jupyter.widget-view+json": {
       "model_id": "f2ef522ec4f34c47878b7e7ae6498080",
       "version_major": 2,
       "version_minor": 0
      },
      "text/plain": [
       "  0%|          | 0/200 [00:00<?, ?it/s]"
      ]
     },
     "metadata": {},
     "output_type": "display_data"
    },
    {
     "name": "stdout",
     "output_type": "stream",
     "text": [
      "---------------Epoch_1_model.pt-----------------\n",
      "\n"
     ]
    },
    {
     "data": {
      "application/vnd.jupyter.widget-view+json": {
       "model_id": "e1de121ab8d9417084c680dff4cd6341",
       "version_major": 2,
       "version_minor": 0
      },
      "text/plain": [
       "  0%|          | 0/129 [00:00<?, ?it/s]"
      ]
     },
     "metadata": {},
     "output_type": "display_data"
    },
    {
     "name": "stderr",
     "output_type": "stream",
     "text": [
      "c:\\users\\sanaullapc\\appdata\\local\\programs\\python\\python39\\lib\\site-packages\\torch\\nn\\functional.py:718: UserWarning: Named tensors and all their associated APIs are an experimental feature and subject to change. Please do not use them for anything important until they are released as stable. (Triggered internally at  ..\\c10/core/TensorImpl.h:1156.)\n",
      "  return torch.max_pool2d(input, kernel_size, stride, padding, dilation, ceil_mode)\n"
     ]
    },
    {
     "name": "stdout",
     "output_type": "stream",
     "text": [
      "total_num_correct_preds: 26\n",
      "MAE/RMSE/ACC: | AGEDB-Test: 34.012/36.948/0.158%\n",
      "\n",
      "---------------Epoch_2_model.pt-----------------\n",
      "\n"
     ]
    },
    {
     "data": {
      "application/vnd.jupyter.widget-view+json": {
       "model_id": "1abddbb13fa3445497016c658eb8ff3a",
       "version_major": 2,
       "version_minor": 0
      },
      "text/plain": [
       "  0%|          | 0/129 [00:00<?, ?it/s]"
      ]
     },
     "metadata": {},
     "output_type": "display_data"
    },
    {
     "name": "stdout",
     "output_type": "stream",
     "text": [
      "total_num_correct_preds: 75\n",
      "MAE/RMSE/ACC: | AGEDB-Test: 31.578/35.218/0.455%\n",
      "\n",
      "---------------Epoch_3_model.pt-----------------\n",
      "\n"
     ]
    },
    {
     "data": {
      "application/vnd.jupyter.widget-view+json": {
       "model_id": "aece6738770f487cae9420a981bb96f4",
       "version_major": 2,
       "version_minor": 0
      },
      "text/plain": [
       "  0%|          | 0/129 [00:00<?, ?it/s]"
      ]
     },
     "metadata": {},
     "output_type": "display_data"
    },
    {
     "name": "stdout",
     "output_type": "stream",
     "text": [
      "total_num_correct_preds: 122\n",
      "MAE/RMSE/ACC: | AGEDB-Test: 27.120/30.889/0.740%\n",
      "\n",
      "---------------Epoch_4_model.pt-----------------\n",
      "\n"
     ]
    },
    {
     "data": {
      "application/vnd.jupyter.widget-view+json": {
       "model_id": "e6d0ec462868426bbd11b695e6aaf722",
       "version_major": 2,
       "version_minor": 0
      },
      "text/plain": [
       "  0%|          | 0/129 [00:00<?, ?it/s]"
      ]
     },
     "metadata": {},
     "output_type": "display_data"
    },
    {
     "name": "stdout",
     "output_type": "stream",
     "text": [
      "total_num_correct_preds: 191\n",
      "MAE/RMSE/ACC: | AGEDB-Test: 26.562/31.417/1.159%\n",
      "\n",
      "---------------Epoch_5_model.pt-----------------\n",
      "\n"
     ]
    },
    {
     "data": {
      "application/vnd.jupyter.widget-view+json": {
       "model_id": "5b809712377f49019a92e143eb00265b",
       "version_major": 2,
       "version_minor": 0
      },
      "text/plain": [
       "  0%|          | 0/129 [00:00<?, ?it/s]"
      ]
     },
     "metadata": {},
     "output_type": "display_data"
    },
    {
     "name": "stdout",
     "output_type": "stream",
     "text": [
      "total_num_correct_preds: 191\n",
      "MAE/RMSE/ACC: | AGEDB-Test: 26.034/30.848/1.159%\n",
      "\n",
      "---------------Epoch_6_model.pt-----------------\n",
      "\n"
     ]
    },
    {
     "data": {
      "application/vnd.jupyter.widget-view+json": {
       "model_id": "fd30cfede3774f2e8529b97003a8622c",
       "version_major": 2,
       "version_minor": 0
      },
      "text/plain": [
       "  0%|          | 0/129 [00:00<?, ?it/s]"
      ]
     },
     "metadata": {},
     "output_type": "display_data"
    },
    {
     "name": "stdout",
     "output_type": "stream",
     "text": [
      "total_num_correct_preds: 312\n",
      "MAE/RMSE/ACC: | AGEDB-Test: 19.486/25.178/1.893%\n",
      "\n",
      "---------------Epoch_7_model.pt-----------------\n",
      "\n"
     ]
    },
    {
     "data": {
      "application/vnd.jupyter.widget-view+json": {
       "model_id": "dffcb559d40648bf932bbf2f614a3a78",
       "version_major": 2,
       "version_minor": 0
      },
      "text/plain": [
       "  0%|          | 0/129 [00:00<?, ?it/s]"
      ]
     },
     "metadata": {},
     "output_type": "display_data"
    },
    {
     "name": "stdout",
     "output_type": "stream",
     "text": [
      "total_num_correct_preds: 246\n",
      "MAE/RMSE/ACC: | AGEDB-Test: 25.999/32.451/1.493%\n",
      "\n",
      "---------------Epoch_8_model.pt-----------------\n",
      "\n"
     ]
    },
    {
     "data": {
      "application/vnd.jupyter.widget-view+json": {
       "model_id": "b77f1749e6d0491b93d7917deaf981fb",
       "version_major": 2,
       "version_minor": 0
      },
      "text/plain": [
       "  0%|          | 0/129 [00:00<?, ?it/s]"
      ]
     },
     "metadata": {},
     "output_type": "display_data"
    },
    {
     "name": "stdout",
     "output_type": "stream",
     "text": [
      "total_num_correct_preds: 265\n",
      "MAE/RMSE/ACC: | AGEDB-Test: 20.681/25.121/1.608%\n",
      "\n",
      "---------------Epoch_9_model.pt-----------------\n",
      "\n"
     ]
    },
    {
     "data": {
      "application/vnd.jupyter.widget-view+json": {
       "model_id": "7231447ff6d745fe8b372865acf15794",
       "version_major": 2,
       "version_minor": 0
      },
      "text/plain": [
       "  0%|          | 0/129 [00:00<?, ?it/s]"
      ]
     },
     "metadata": {},
     "output_type": "display_data"
    },
    {
     "name": "stdout",
     "output_type": "stream",
     "text": [
      "total_num_correct_preds: 381\n",
      "MAE/RMSE/ACC: | AGEDB-Test: 17.063/22.267/2.312%\n",
      "\n",
      "---------------Epoch_10_model.pt-----------------\n",
      "\n"
     ]
    },
    {
     "data": {
      "application/vnd.jupyter.widget-view+json": {
       "model_id": "8f6f2bc946ea44d1b7e6338fcb45926e",
       "version_major": 2,
       "version_minor": 0
      },
      "text/plain": [
       "  0%|          | 0/129 [00:00<?, ?it/s]"
      ]
     },
     "metadata": {},
     "output_type": "display_data"
    },
    {
     "name": "stdout",
     "output_type": "stream",
     "text": [
      "total_num_correct_preds: 421\n",
      "MAE/RMSE/ACC: | AGEDB-Test: 15.365/20.618/2.555%\n",
      "\n",
      "---------------Epoch_11_model.pt-----------------\n",
      "\n"
     ]
    },
    {
     "data": {
      "application/vnd.jupyter.widget-view+json": {
       "model_id": "33ccd949d91443dbbe10bd0e70c09b55",
       "version_major": 2,
       "version_minor": 0
      },
      "text/plain": [
       "  0%|          | 0/129 [00:00<?, ?it/s]"
      ]
     },
     "metadata": {},
     "output_type": "display_data"
    },
    {
     "name": "stdout",
     "output_type": "stream",
     "text": [
      "total_num_correct_preds: 301\n",
      "MAE/RMSE/ACC: | AGEDB-Test: 17.595/21.771/1.827%\n",
      "\n",
      "---------------Epoch_12_model.pt-----------------\n",
      "\n"
     ]
    },
    {
     "data": {
      "application/vnd.jupyter.widget-view+json": {
       "model_id": "344d598f4dfb402a9832f91a4e13a370",
       "version_major": 2,
       "version_minor": 0
      },
      "text/plain": [
       "  0%|          | 0/129 [00:00<?, ?it/s]"
      ]
     },
     "metadata": {},
     "output_type": "display_data"
    },
    {
     "name": "stdout",
     "output_type": "stream",
     "text": [
      "total_num_correct_preds: 404\n",
      "MAE/RMSE/ACC: | AGEDB-Test: 14.257/18.324/2.452%\n",
      "\n",
      "---------------Epoch_13_model.pt-----------------\n",
      "\n"
     ]
    },
    {
     "data": {
      "application/vnd.jupyter.widget-view+json": {
       "model_id": "85fdff1a8e37453591f756fb448ab65f",
       "version_major": 2,
       "version_minor": 0
      },
      "text/plain": [
       "  0%|          | 0/129 [00:00<?, ?it/s]"
      ]
     },
     "metadata": {},
     "output_type": "display_data"
    },
    {
     "name": "stdout",
     "output_type": "stream",
     "text": [
      "total_num_correct_preds: 359\n",
      "MAE/RMSE/ACC: | AGEDB-Test: 16.847/21.320/2.179%\n",
      "\n",
      "---------------Epoch_14_model.pt-----------------\n",
      "\n"
     ]
    },
    {
     "data": {
      "application/vnd.jupyter.widget-view+json": {
       "model_id": "3c7fcdb8cfa1490a8eaf6d55cfeacf14",
       "version_major": 2,
       "version_minor": 0
      },
      "text/plain": [
       "  0%|          | 0/129 [00:00<?, ?it/s]"
      ]
     },
     "metadata": {},
     "output_type": "display_data"
    },
    {
     "name": "stdout",
     "output_type": "stream",
     "text": [
      "total_num_correct_preds: 438\n",
      "MAE/RMSE/ACC: | AGEDB-Test: 12.893/16.916/2.658%\n",
      "\n",
      "---------------Epoch_15_model.pt-----------------\n",
      "\n"
     ]
    },
    {
     "data": {
      "application/vnd.jupyter.widget-view+json": {
       "model_id": "673fc0d6c2284790885d30eb60878e69",
       "version_major": 2,
       "version_minor": 0
      },
      "text/plain": [
       "  0%|          | 0/129 [00:00<?, ?it/s]"
      ]
     },
     "metadata": {},
     "output_type": "display_data"
    },
    {
     "name": "stdout",
     "output_type": "stream",
     "text": [
      "total_num_correct_preds: 430\n",
      "MAE/RMSE/ACC: | AGEDB-Test: 13.720/17.441/2.610%\n",
      "\n",
      "---------------Epoch_16_model.pt-----------------\n",
      "\n"
     ]
    },
    {
     "data": {
      "application/vnd.jupyter.widget-view+json": {
       "model_id": "c343d6dd0c064dfb84c53b4bd3123b69",
       "version_major": 2,
       "version_minor": 0
      },
      "text/plain": [
       "  0%|          | 0/129 [00:00<?, ?it/s]"
      ]
     },
     "metadata": {},
     "output_type": "display_data"
    },
    {
     "name": "stdout",
     "output_type": "stream",
     "text": [
      "total_num_correct_preds: 467\n",
      "MAE/RMSE/ACC: | AGEDB-Test: 12.961/17.264/2.834%\n",
      "\n",
      "---------------Epoch_17_model.pt-----------------\n",
      "\n"
     ]
    },
    {
     "data": {
      "application/vnd.jupyter.widget-view+json": {
       "model_id": "ca8966e438694dd2b70dfeb31acea5f7",
       "version_major": 2,
       "version_minor": 0
      },
      "text/plain": [
       "  0%|          | 0/129 [00:00<?, ?it/s]"
      ]
     },
     "metadata": {},
     "output_type": "display_data"
    },
    {
     "name": "stdout",
     "output_type": "stream",
     "text": [
      "total_num_correct_preds: 493\n",
      "MAE/RMSE/ACC: | AGEDB-Test: 12.676/16.863/2.992%\n",
      "\n",
      "---------------Epoch_18_model.pt-----------------\n",
      "\n"
     ]
    },
    {
     "data": {
      "application/vnd.jupyter.widget-view+json": {
       "model_id": "2564c9ac4d6b48eb87e19ef71719fa88",
       "version_major": 2,
       "version_minor": 0
      },
      "text/plain": [
       "  0%|          | 0/129 [00:00<?, ?it/s]"
      ]
     },
     "metadata": {},
     "output_type": "display_data"
    },
    {
     "name": "stdout",
     "output_type": "stream",
     "text": [
      "total_num_correct_preds: 447\n",
      "MAE/RMSE/ACC: | AGEDB-Test: 12.964/16.635/2.713%\n",
      "\n",
      "---------------Epoch_19_model.pt-----------------\n",
      "\n"
     ]
    },
    {
     "data": {
      "application/vnd.jupyter.widget-view+json": {
       "model_id": "42c5a04d708246f89de02083741cb91c",
       "version_major": 2,
       "version_minor": 0
      },
      "text/plain": [
       "  0%|          | 0/129 [00:00<?, ?it/s]"
      ]
     },
     "metadata": {},
     "output_type": "display_data"
    },
    {
     "name": "stdout",
     "output_type": "stream",
     "text": [
      "total_num_correct_preds: 470\n",
      "MAE/RMSE/ACC: | AGEDB-Test: 12.370/15.907/2.852%\n",
      "\n",
      "---------------Epoch_20_model.pt-----------------\n",
      "\n"
     ]
    },
    {
     "data": {
      "application/vnd.jupyter.widget-view+json": {
       "model_id": "ffdaac38cd5548f98f9af9db83153c5a",
       "version_major": 2,
       "version_minor": 0
      },
      "text/plain": [
       "  0%|          | 0/129 [00:00<?, ?it/s]"
      ]
     },
     "metadata": {},
     "output_type": "display_data"
    },
    {
     "name": "stdout",
     "output_type": "stream",
     "text": [
      "total_num_correct_preds: 514\n",
      "MAE/RMSE/ACC: | AGEDB-Test: 11.141/14.370/3.119%\n",
      "\n",
      "---------------Epoch_21_model.pt-----------------\n",
      "\n"
     ]
    },
    {
     "data": {
      "application/vnd.jupyter.widget-view+json": {
       "model_id": "8cd16ff5b2694a2e94a4a58977193a7d",
       "version_major": 2,
       "version_minor": 0
      },
      "text/plain": [
       "  0%|          | 0/129 [00:00<?, ?it/s]"
      ]
     },
     "metadata": {},
     "output_type": "display_data"
    },
    {
     "name": "stdout",
     "output_type": "stream",
     "text": [
      "total_num_correct_preds: 460\n",
      "MAE/RMSE/ACC: | AGEDB-Test: 12.519/16.018/2.792%\n",
      "\n",
      "---------------Epoch_22_model.pt-----------------\n",
      "\n"
     ]
    },
    {
     "data": {
      "application/vnd.jupyter.widget-view+json": {
       "model_id": "cd9d15ce3f65464d98152991d6e5c3fd",
       "version_major": 2,
       "version_minor": 0
      },
      "text/plain": [
       "  0%|          | 0/129 [00:00<?, ?it/s]"
      ]
     },
     "metadata": {},
     "output_type": "display_data"
    },
    {
     "name": "stdout",
     "output_type": "stream",
     "text": [
      "total_num_correct_preds: 535\n",
      "MAE/RMSE/ACC: | AGEDB-Test: 11.285/14.748/3.247%\n",
      "\n",
      "---------------Epoch_23_model.pt-----------------\n",
      "\n"
     ]
    },
    {
     "data": {
      "application/vnd.jupyter.widget-view+json": {
       "model_id": "4ec19e4f67df4f929c965b513ae558a7",
       "version_major": 2,
       "version_minor": 0
      },
      "text/plain": [
       "  0%|          | 0/129 [00:00<?, ?it/s]"
      ]
     },
     "metadata": {},
     "output_type": "display_data"
    },
    {
     "name": "stdout",
     "output_type": "stream",
     "text": [
      "total_num_correct_preds: 456\n",
      "MAE/RMSE/ACC: | AGEDB-Test: 12.593/16.141/2.767%\n",
      "\n",
      "---------------Epoch_24_model.pt-----------------\n",
      "\n"
     ]
    },
    {
     "data": {
      "application/vnd.jupyter.widget-view+json": {
       "model_id": "c3d638c774134a0a8c02d53ce9274f4a",
       "version_major": 2,
       "version_minor": 0
      },
      "text/plain": [
       "  0%|          | 0/129 [00:00<?, ?it/s]"
      ]
     },
     "metadata": {},
     "output_type": "display_data"
    },
    {
     "name": "stdout",
     "output_type": "stream",
     "text": [
      "total_num_correct_preds: 529\n",
      "MAE/RMSE/ACC: | AGEDB-Test: 11.164/14.403/3.210%\n",
      "\n",
      "---------------Epoch_25_model.pt-----------------\n",
      "\n"
     ]
    },
    {
     "data": {
      "application/vnd.jupyter.widget-view+json": {
       "model_id": "a447ec6290864e108f84a10afc0ae399",
       "version_major": 2,
       "version_minor": 0
      },
      "text/plain": [
       "  0%|          | 0/129 [00:00<?, ?it/s]"
      ]
     },
     "metadata": {},
     "output_type": "display_data"
    },
    {
     "name": "stdout",
     "output_type": "stream",
     "text": [
      "total_num_correct_preds: 556\n",
      "MAE/RMSE/ACC: | AGEDB-Test: 10.173/12.965/3.374%\n",
      "\n",
      "---------------Epoch_26_model.pt-----------------\n",
      "\n"
     ]
    },
    {
     "data": {
      "application/vnd.jupyter.widget-view+json": {
       "model_id": "1b1636fbc8ab455895cb006ed2bd3d75",
       "version_major": 2,
       "version_minor": 0
      },
      "text/plain": [
       "  0%|          | 0/129 [00:00<?, ?it/s]"
      ]
     },
     "metadata": {},
     "output_type": "display_data"
    },
    {
     "name": "stdout",
     "output_type": "stream",
     "text": [
      "total_num_correct_preds: 484\n",
      "MAE/RMSE/ACC: | AGEDB-Test: 12.386/15.885/2.937%\n",
      "\n",
      "---------------Epoch_27_model.pt-----------------\n",
      "\n"
     ]
    },
    {
     "data": {
      "application/vnd.jupyter.widget-view+json": {
       "model_id": "559e803de08c4971a2f588c2c195ea05",
       "version_major": 2,
       "version_minor": 0
      },
      "text/plain": [
       "  0%|          | 0/129 [00:00<?, ?it/s]"
      ]
     },
     "metadata": {},
     "output_type": "display_data"
    },
    {
     "name": "stdout",
     "output_type": "stream",
     "text": [
      "total_num_correct_preds: 476\n",
      "MAE/RMSE/ACC: | AGEDB-Test: 12.756/16.191/2.889%\n",
      "\n",
      "---------------Epoch_28_model.pt-----------------\n",
      "\n"
     ]
    },
    {
     "data": {
      "application/vnd.jupyter.widget-view+json": {
       "model_id": "908932972fe742d08526e37cc59d82c5",
       "version_major": 2,
       "version_minor": 0
      },
      "text/plain": [
       "  0%|          | 0/129 [00:00<?, ?it/s]"
      ]
     },
     "metadata": {},
     "output_type": "display_data"
    },
    {
     "name": "stdout",
     "output_type": "stream",
     "text": [
      "total_num_correct_preds: 565\n",
      "MAE/RMSE/ACC: | AGEDB-Test: 10.677/13.719/3.429%\n",
      "\n",
      "---------------Epoch_29_model.pt-----------------\n",
      "\n"
     ]
    },
    {
     "data": {
      "application/vnd.jupyter.widget-view+json": {
       "model_id": "ad418e8596a944cfad4060a7fa1ee5f8",
       "version_major": 2,
       "version_minor": 0
      },
      "text/plain": [
       "  0%|          | 0/129 [00:00<?, ?it/s]"
      ]
     },
     "metadata": {},
     "output_type": "display_data"
    },
    {
     "name": "stdout",
     "output_type": "stream",
     "text": [
      "total_num_correct_preds: 553\n",
      "MAE/RMSE/ACC: | AGEDB-Test: 10.116/12.966/3.356%\n",
      "\n",
      "---------------Epoch_30_model.pt-----------------\n",
      "\n"
     ]
    },
    {
     "data": {
      "application/vnd.jupyter.widget-view+json": {
       "model_id": "231bf9d469704c988f4a316826447419",
       "version_major": 2,
       "version_minor": 0
      },
      "text/plain": [
       "  0%|          | 0/129 [00:00<?, ?it/s]"
      ]
     },
     "metadata": {},
     "output_type": "display_data"
    },
    {
     "name": "stdout",
     "output_type": "stream",
     "text": [
      "total_num_correct_preds: 533\n",
      "MAE/RMSE/ACC: | AGEDB-Test: 10.446/13.266/3.235%\n",
      "\n",
      "---------------Epoch_31_model.pt-----------------\n",
      "\n"
     ]
    },
    {
     "data": {
      "application/vnd.jupyter.widget-view+json": {
       "model_id": "cac4c8945176492f84be80ab70d9977c",
       "version_major": 2,
       "version_minor": 0
      },
      "text/plain": [
       "  0%|          | 0/129 [00:00<?, ?it/s]"
      ]
     },
     "metadata": {},
     "output_type": "display_data"
    },
    {
     "name": "stdout",
     "output_type": "stream",
     "text": [
      "total_num_correct_preds: 577\n",
      "MAE/RMSE/ACC: | AGEDB-Test: 10.358/13.307/3.502%\n",
      "\n",
      "---------------Epoch_32_model.pt-----------------\n",
      "\n"
     ]
    },
    {
     "data": {
      "application/vnd.jupyter.widget-view+json": {
       "model_id": "7c786312816a4fda876fefbc92d58f53",
       "version_major": 2,
       "version_minor": 0
      },
      "text/plain": [
       "  0%|          | 0/129 [00:00<?, ?it/s]"
      ]
     },
     "metadata": {},
     "output_type": "display_data"
    },
    {
     "name": "stdout",
     "output_type": "stream",
     "text": [
      "total_num_correct_preds: 596\n",
      "MAE/RMSE/ACC: | AGEDB-Test: 10.140/12.983/3.617%\n",
      "\n",
      "---------------Epoch_33_model.pt-----------------\n",
      "\n"
     ]
    },
    {
     "data": {
      "application/vnd.jupyter.widget-view+json": {
       "model_id": "16526daca46445ce9810ed82228aef81",
       "version_major": 2,
       "version_minor": 0
      },
      "text/plain": [
       "  0%|          | 0/129 [00:00<?, ?it/s]"
      ]
     },
     "metadata": {},
     "output_type": "display_data"
    },
    {
     "name": "stdout",
     "output_type": "stream",
     "text": [
      "total_num_correct_preds: 539\n",
      "MAE/RMSE/ACC: | AGEDB-Test: 9.953/12.785/3.271%\n",
      "\n",
      "---------------Epoch_34_model.pt-----------------\n",
      "\n"
     ]
    },
    {
     "data": {
      "application/vnd.jupyter.widget-view+json": {
       "model_id": "25cb64db7a0e43f8aba3725184a1b88c",
       "version_major": 2,
       "version_minor": 0
      },
      "text/plain": [
       "  0%|          | 0/129 [00:00<?, ?it/s]"
      ]
     },
     "metadata": {},
     "output_type": "display_data"
    },
    {
     "name": "stdout",
     "output_type": "stream",
     "text": [
      "total_num_correct_preds: 548\n",
      "MAE/RMSE/ACC: | AGEDB-Test: 10.103/12.932/3.326%\n",
      "\n",
      "---------------Epoch_35_model.pt-----------------\n",
      "\n"
     ]
    },
    {
     "data": {
      "application/vnd.jupyter.widget-view+json": {
       "model_id": "14ffccf3f82f473185f1343b9022aacf",
       "version_major": 2,
       "version_minor": 0
      },
      "text/plain": [
       "  0%|          | 0/129 [00:00<?, ?it/s]"
      ]
     },
     "metadata": {},
     "output_type": "display_data"
    },
    {
     "name": "stdout",
     "output_type": "stream",
     "text": [
      "total_num_correct_preds: 550\n",
      "MAE/RMSE/ACC: | AGEDB-Test: 9.746/12.489/3.338%\n",
      "\n",
      "---------------Epoch_36_model.pt-----------------\n",
      "\n"
     ]
    },
    {
     "data": {
      "application/vnd.jupyter.widget-view+json": {
       "model_id": "ae0ee80add1d4b46bc44dee035dc04ac",
       "version_major": 2,
       "version_minor": 0
      },
      "text/plain": [
       "  0%|          | 0/129 [00:00<?, ?it/s]"
      ]
     },
     "metadata": {},
     "output_type": "display_data"
    },
    {
     "name": "stdout",
     "output_type": "stream",
     "text": [
      "total_num_correct_preds: 596\n",
      "MAE/RMSE/ACC: | AGEDB-Test: 9.820/12.574/3.617%\n",
      "\n",
      "---------------Epoch_37_model.pt-----------------\n",
      "\n"
     ]
    },
    {
     "data": {
      "application/vnd.jupyter.widget-view+json": {
       "model_id": "4b058b09504d4db58a1799682b73cc3e",
       "version_major": 2,
       "version_minor": 0
      },
      "text/plain": [
       "  0%|          | 0/129 [00:00<?, ?it/s]"
      ]
     },
     "metadata": {},
     "output_type": "display_data"
    },
    {
     "name": "stdout",
     "output_type": "stream",
     "text": [
      "total_num_correct_preds: 569\n",
      "MAE/RMSE/ACC: | AGEDB-Test: 9.959/12.791/3.453%\n",
      "\n",
      "---------------Epoch_38_model.pt-----------------\n",
      "\n"
     ]
    },
    {
     "data": {
      "application/vnd.jupyter.widget-view+json": {
       "model_id": "d289be5b15b54106ac5b436ba57986d7",
       "version_major": 2,
       "version_minor": 0
      },
      "text/plain": [
       "  0%|          | 0/129 [00:00<?, ?it/s]"
      ]
     },
     "metadata": {},
     "output_type": "display_data"
    },
    {
     "name": "stdout",
     "output_type": "stream",
     "text": [
      "total_num_correct_preds: 545\n",
      "MAE/RMSE/ACC: | AGEDB-Test: 10.039/12.836/3.307%\n",
      "\n",
      "---------------Epoch_39_model.pt-----------------\n",
      "\n"
     ]
    },
    {
     "data": {
      "application/vnd.jupyter.widget-view+json": {
       "model_id": "5a08ce6cb60145688a579644c4c40ce5",
       "version_major": 2,
       "version_minor": 0
      },
      "text/plain": [
       "  0%|          | 0/129 [00:00<?, ?it/s]"
      ]
     },
     "metadata": {},
     "output_type": "display_data"
    },
    {
     "name": "stdout",
     "output_type": "stream",
     "text": [
      "total_num_correct_preds: 459\n",
      "MAE/RMSE/ACC: | AGEDB-Test: 12.128/15.687/2.786%\n",
      "\n",
      "---------------Epoch_40_model.pt-----------------\n",
      "\n"
     ]
    },
    {
     "data": {
      "application/vnd.jupyter.widget-view+json": {
       "model_id": "3be0678a43bd42e4b70727fd0584e5e7",
       "version_major": 2,
       "version_minor": 0
      },
      "text/plain": [
       "  0%|          | 0/129 [00:00<?, ?it/s]"
      ]
     },
     "metadata": {},
     "output_type": "display_data"
    },
    {
     "name": "stdout",
     "output_type": "stream",
     "text": [
      "total_num_correct_preds: 475\n",
      "MAE/RMSE/ACC: | AGEDB-Test: 12.697/16.454/2.883%\n",
      "\n",
      "---------------Epoch_41_model.pt-----------------\n",
      "\n"
     ]
    },
    {
     "data": {
      "application/vnd.jupyter.widget-view+json": {
       "model_id": "a6066870956e4961a5c52c90796777da",
       "version_major": 2,
       "version_minor": 0
      },
      "text/plain": [
       "  0%|          | 0/129 [00:00<?, ?it/s]"
      ]
     },
     "metadata": {},
     "output_type": "display_data"
    },
    {
     "name": "stdout",
     "output_type": "stream",
     "text": [
      "total_num_correct_preds: 566\n",
      "MAE/RMSE/ACC: | AGEDB-Test: 10.023/12.884/3.435%\n",
      "\n",
      "---------------Epoch_42_model.pt-----------------\n",
      "\n"
     ]
    },
    {
     "data": {
      "application/vnd.jupyter.widget-view+json": {
       "model_id": "93d84dd15800432ea8e6b85776b69ef1",
       "version_major": 2,
       "version_minor": 0
      },
      "text/plain": [
       "  0%|          | 0/129 [00:00<?, ?it/s]"
      ]
     },
     "metadata": {},
     "output_type": "display_data"
    },
    {
     "name": "stdout",
     "output_type": "stream",
     "text": [
      "total_num_correct_preds: 583\n",
      "MAE/RMSE/ACC: | AGEDB-Test: 9.788/12.508/3.538%\n",
      "\n",
      "---------------Epoch_43_model.pt-----------------\n",
      "\n"
     ]
    },
    {
     "data": {
      "application/vnd.jupyter.widget-view+json": {
       "model_id": "a6f53894173c4eefbcc69d78181d9223",
       "version_major": 2,
       "version_minor": 0
      },
      "text/plain": [
       "  0%|          | 0/129 [00:00<?, ?it/s]"
      ]
     },
     "metadata": {},
     "output_type": "display_data"
    },
    {
     "name": "stdout",
     "output_type": "stream",
     "text": [
      "total_num_correct_preds: 577\n",
      "MAE/RMSE/ACC: | AGEDB-Test: 9.462/12.112/3.502%\n",
      "\n",
      "---------------Epoch_44_model.pt-----------------\n",
      "\n"
     ]
    },
    {
     "data": {
      "application/vnd.jupyter.widget-view+json": {
       "model_id": "72da5938d7504527828bc8686d92c633",
       "version_major": 2,
       "version_minor": 0
      },
      "text/plain": [
       "  0%|          | 0/129 [00:00<?, ?it/s]"
      ]
     },
     "metadata": {},
     "output_type": "display_data"
    },
    {
     "name": "stdout",
     "output_type": "stream",
     "text": [
      "total_num_correct_preds: 621\n",
      "MAE/RMSE/ACC: | AGEDB-Test: 9.453/12.093/3.769%\n",
      "\n",
      "---------------Epoch_45_model.pt-----------------\n",
      "\n"
     ]
    },
    {
     "data": {
      "application/vnd.jupyter.widget-view+json": {
       "model_id": "dbbf90a6f4684ec6bd299bd4faffe7ba",
       "version_major": 2,
       "version_minor": 0
      },
      "text/plain": [
       "  0%|          | 0/129 [00:00<?, ?it/s]"
      ]
     },
     "metadata": {},
     "output_type": "display_data"
    },
    {
     "name": "stdout",
     "output_type": "stream",
     "text": [
      "total_num_correct_preds: 570\n",
      "MAE/RMSE/ACC: | AGEDB-Test: 9.658/12.302/3.459%\n",
      "\n",
      "---------------Epoch_46_model.pt-----------------\n",
      "\n"
     ]
    },
    {
     "data": {
      "application/vnd.jupyter.widget-view+json": {
       "model_id": "b7311176679e448ca1b50053ad95dec7",
       "version_major": 2,
       "version_minor": 0
      },
      "text/plain": [
       "  0%|          | 0/129 [00:00<?, ?it/s]"
      ]
     },
     "metadata": {},
     "output_type": "display_data"
    },
    {
     "name": "stdout",
     "output_type": "stream",
     "text": [
      "total_num_correct_preds: 597\n",
      "MAE/RMSE/ACC: | AGEDB-Test: 9.609/12.290/3.623%\n",
      "\n",
      "---------------Epoch_47_model.pt-----------------\n",
      "\n"
     ]
    },
    {
     "data": {
      "application/vnd.jupyter.widget-view+json": {
       "model_id": "65428274ef334386a8370cf135604374",
       "version_major": 2,
       "version_minor": 0
      },
      "text/plain": [
       "  0%|          | 0/129 [00:00<?, ?it/s]"
      ]
     },
     "metadata": {},
     "output_type": "display_data"
    },
    {
     "name": "stdout",
     "output_type": "stream",
     "text": [
      "total_num_correct_preds: 600\n",
      "MAE/RMSE/ACC: | AGEDB-Test: 9.583/12.364/3.641%\n",
      "\n",
      "---------------Epoch_48_model.pt-----------------\n",
      "\n"
     ]
    },
    {
     "data": {
      "application/vnd.jupyter.widget-view+json": {
       "model_id": "47e0953dac31424a9e3b7f600e4b03dd",
       "version_major": 2,
       "version_minor": 0
      },
      "text/plain": [
       "  0%|          | 0/129 [00:00<?, ?it/s]"
      ]
     },
     "metadata": {},
     "output_type": "display_data"
    },
    {
     "name": "stdout",
     "output_type": "stream",
     "text": [
      "total_num_correct_preds: 566\n",
      "MAE/RMSE/ACC: | AGEDB-Test: 10.182/13.106/3.435%\n",
      "\n",
      "---------------Epoch_49_model.pt-----------------\n",
      "\n"
     ]
    },
    {
     "data": {
      "application/vnd.jupyter.widget-view+json": {
       "model_id": "aa2f5376567b40afa98eb8f27ce84cc4",
       "version_major": 2,
       "version_minor": 0
      },
      "text/plain": [
       "  0%|          | 0/129 [00:00<?, ?it/s]"
      ]
     },
     "metadata": {},
     "output_type": "display_data"
    },
    {
     "name": "stdout",
     "output_type": "stream",
     "text": [
      "total_num_correct_preds: 616\n",
      "MAE/RMSE/ACC: | AGEDB-Test: 9.400/12.032/3.738%\n",
      "\n",
      "---------------Epoch_50_model.pt-----------------\n",
      "\n"
     ]
    },
    {
     "data": {
      "application/vnd.jupyter.widget-view+json": {
       "model_id": "8b90777e427a40f6a16c0d349e7682d6",
       "version_major": 2,
       "version_minor": 0
      },
      "text/plain": [
       "  0%|          | 0/129 [00:00<?, ?it/s]"
      ]
     },
     "metadata": {},
     "output_type": "display_data"
    },
    {
     "name": "stdout",
     "output_type": "stream",
     "text": [
      "total_num_correct_preds: 603\n",
      "MAE/RMSE/ACC: | AGEDB-Test: 9.507/12.137/3.659%\n",
      "\n",
      "---------------Epoch_51_model.pt-----------------\n",
      "\n"
     ]
    },
    {
     "data": {
      "application/vnd.jupyter.widget-view+json": {
       "model_id": "b4b4f141209e47f2a73bf28dbd433591",
       "version_major": 2,
       "version_minor": 0
      },
      "text/plain": [
       "  0%|          | 0/129 [00:00<?, ?it/s]"
      ]
     },
     "metadata": {},
     "output_type": "display_data"
    },
    {
     "name": "stdout",
     "output_type": "stream",
     "text": [
      "total_num_correct_preds: 579\n",
      "MAE/RMSE/ACC: | AGEDB-Test: 9.392/12.003/3.514%\n",
      "\n",
      "---------------Epoch_52_model.pt-----------------\n",
      "\n"
     ]
    },
    {
     "data": {
      "application/vnd.jupyter.widget-view+json": {
       "model_id": "768b7e6fa6d5492f98577c076dca1347",
       "version_major": 2,
       "version_minor": 0
      },
      "text/plain": [
       "  0%|          | 0/129 [00:00<?, ?it/s]"
      ]
     },
     "metadata": {},
     "output_type": "display_data"
    },
    {
     "name": "stdout",
     "output_type": "stream",
     "text": [
      "total_num_correct_preds: 562\n",
      "MAE/RMSE/ACC: | AGEDB-Test: 10.384/13.365/3.411%\n",
      "\n",
      "---------------Epoch_53_model.pt-----------------\n",
      "\n"
     ]
    },
    {
     "data": {
      "application/vnd.jupyter.widget-view+json": {
       "model_id": "144f6ba22dde43e69459f8ca4fb5f524",
       "version_major": 2,
       "version_minor": 0
      },
      "text/plain": [
       "  0%|          | 0/129 [00:00<?, ?it/s]"
      ]
     },
     "metadata": {},
     "output_type": "display_data"
    },
    {
     "name": "stdout",
     "output_type": "stream",
     "text": [
      "total_num_correct_preds: 555\n",
      "MAE/RMSE/ACC: | AGEDB-Test: 10.185/13.117/3.368%\n",
      "\n",
      "---------------Epoch_54_model.pt-----------------\n",
      "\n"
     ]
    },
    {
     "data": {
      "application/vnd.jupyter.widget-view+json": {
       "model_id": "6839055f8447435197229e4131b8e3de",
       "version_major": 2,
       "version_minor": 0
      },
      "text/plain": [
       "  0%|          | 0/129 [00:00<?, ?it/s]"
      ]
     },
     "metadata": {},
     "output_type": "display_data"
    },
    {
     "name": "stdout",
     "output_type": "stream",
     "text": [
      "total_num_correct_preds: 566\n",
      "MAE/RMSE/ACC: | AGEDB-Test: 10.091/13.071/3.435%\n",
      "\n",
      "---------------Epoch_55_model.pt-----------------\n",
      "\n"
     ]
    },
    {
     "data": {
      "application/vnd.jupyter.widget-view+json": {
       "model_id": "36cde58e1c0a44e9b1b21e4f202c4b85",
       "version_major": 2,
       "version_minor": 0
      },
      "text/plain": [
       "  0%|          | 0/129 [00:00<?, ?it/s]"
      ]
     },
     "metadata": {},
     "output_type": "display_data"
    },
    {
     "name": "stdout",
     "output_type": "stream",
     "text": [
      "total_num_correct_preds: 555\n",
      "MAE/RMSE/ACC: | AGEDB-Test: 9.980/12.799/3.368%\n",
      "\n",
      "---------------Epoch_56_model.pt-----------------\n",
      "\n"
     ]
    },
    {
     "data": {
      "application/vnd.jupyter.widget-view+json": {
       "model_id": "ab7b2c97e3e447cf8a030e066d272f74",
       "version_major": 2,
       "version_minor": 0
      },
      "text/plain": [
       "  0%|          | 0/129 [00:00<?, ?it/s]"
      ]
     },
     "metadata": {},
     "output_type": "display_data"
    },
    {
     "name": "stdout",
     "output_type": "stream",
     "text": [
      "total_num_correct_preds: 576\n",
      "MAE/RMSE/ACC: | AGEDB-Test: 9.734/12.590/3.496%\n",
      "\n",
      "---------------Epoch_57_model.pt-----------------\n",
      "\n"
     ]
    },
    {
     "data": {
      "application/vnd.jupyter.widget-view+json": {
       "model_id": "c75ad209fc2a4da5bcb6fe1a5b88ccae",
       "version_major": 2,
       "version_minor": 0
      },
      "text/plain": [
       "  0%|          | 0/129 [00:00<?, ?it/s]"
      ]
     },
     "metadata": {},
     "output_type": "display_data"
    },
    {
     "name": "stdout",
     "output_type": "stream",
     "text": [
      "total_num_correct_preds: 533\n",
      "MAE/RMSE/ACC: | AGEDB-Test: 10.940/14.148/3.235%\n",
      "\n",
      "---------------Epoch_58_model.pt-----------------\n",
      "\n"
     ]
    },
    {
     "data": {
      "application/vnd.jupyter.widget-view+json": {
       "model_id": "7de34d3a66e24b02abdf40e58203170c",
       "version_major": 2,
       "version_minor": 0
      },
      "text/plain": [
       "  0%|          | 0/129 [00:00<?, ?it/s]"
      ]
     },
     "metadata": {},
     "output_type": "display_data"
    },
    {
     "name": "stdout",
     "output_type": "stream",
     "text": [
      "total_num_correct_preds: 574\n",
      "MAE/RMSE/ACC: | AGEDB-Test: 9.642/12.446/3.483%\n",
      "\n",
      "---------------Epoch_59_model.pt-----------------\n",
      "\n"
     ]
    },
    {
     "data": {
      "application/vnd.jupyter.widget-view+json": {
       "model_id": "15d1fa7fe4da4ab496ccef84e51c9b33",
       "version_major": 2,
       "version_minor": 0
      },
      "text/plain": [
       "  0%|          | 0/129 [00:00<?, ?it/s]"
      ]
     },
     "metadata": {},
     "output_type": "display_data"
    },
    {
     "name": "stdout",
     "output_type": "stream",
     "text": [
      "total_num_correct_preds: 591\n",
      "MAE/RMSE/ACC: | AGEDB-Test: 9.639/12.346/3.587%\n",
      "\n",
      "---------------Epoch_60_model.pt-----------------\n",
      "\n"
     ]
    },
    {
     "data": {
      "application/vnd.jupyter.widget-view+json": {
       "model_id": "d2788ff9c8d046ebacfc3d4a7f099248",
       "version_major": 2,
       "version_minor": 0
      },
      "text/plain": [
       "  0%|          | 0/129 [00:00<?, ?it/s]"
      ]
     },
     "metadata": {},
     "output_type": "display_data"
    },
    {
     "name": "stdout",
     "output_type": "stream",
     "text": [
      "total_num_correct_preds: 577\n",
      "MAE/RMSE/ACC: | AGEDB-Test: 9.571/12.219/3.502%\n",
      "\n",
      "---------------Epoch_61_model.pt-----------------\n",
      "\n"
     ]
    },
    {
     "data": {
      "application/vnd.jupyter.widget-view+json": {
       "model_id": "ef0ccb0a95424368acc4d37caa82f962",
       "version_major": 2,
       "version_minor": 0
      },
      "text/plain": [
       "  0%|          | 0/129 [00:00<?, ?it/s]"
      ]
     },
     "metadata": {},
     "output_type": "display_data"
    },
    {
     "name": "stdout",
     "output_type": "stream",
     "text": [
      "total_num_correct_preds: 525\n",
      "MAE/RMSE/ACC: | AGEDB-Test: 10.479/13.565/3.186%\n",
      "\n",
      "---------------Epoch_62_model.pt-----------------\n",
      "\n"
     ]
    },
    {
     "data": {
      "application/vnd.jupyter.widget-view+json": {
       "model_id": "557c94a821054b4cb9178d7d185968b4",
       "version_major": 2,
       "version_minor": 0
      },
      "text/plain": [
       "  0%|          | 0/129 [00:00<?, ?it/s]"
      ]
     },
     "metadata": {},
     "output_type": "display_data"
    },
    {
     "name": "stdout",
     "output_type": "stream",
     "text": [
      "total_num_correct_preds: 557\n",
      "MAE/RMSE/ACC: | AGEDB-Test: 10.029/12.875/3.380%\n",
      "\n",
      "---------------Epoch_63_model.pt-----------------\n",
      "\n"
     ]
    },
    {
     "data": {
      "application/vnd.jupyter.widget-view+json": {
       "model_id": "4df171fba86f46d084fa2cd93fbcd046",
       "version_major": 2,
       "version_minor": 0
      },
      "text/plain": [
       "  0%|          | 0/129 [00:00<?, ?it/s]"
      ]
     },
     "metadata": {},
     "output_type": "display_data"
    },
    {
     "name": "stdout",
     "output_type": "stream",
     "text": [
      "total_num_correct_preds: 579\n",
      "MAE/RMSE/ACC: | AGEDB-Test: 9.770/12.613/3.514%\n",
      "\n",
      "---------------Epoch_64_model.pt-----------------\n",
      "\n"
     ]
    },
    {
     "data": {
      "application/vnd.jupyter.widget-view+json": {
       "model_id": "c8282fdc037e49c2b1f501ca718ddbd9",
       "version_major": 2,
       "version_minor": 0
      },
      "text/plain": [
       "  0%|          | 0/129 [00:00<?, ?it/s]"
      ]
     },
     "metadata": {},
     "output_type": "display_data"
    },
    {
     "name": "stdout",
     "output_type": "stream",
     "text": [
      "total_num_correct_preds: 580\n",
      "MAE/RMSE/ACC: | AGEDB-Test: 9.614/12.352/3.520%\n",
      "\n",
      "---------------Epoch_65_model.pt-----------------\n",
      "\n"
     ]
    },
    {
     "data": {
      "application/vnd.jupyter.widget-view+json": {
       "model_id": "35df331127944739ba9725e2a7b1f32b",
       "version_major": 2,
       "version_minor": 0
      },
      "text/plain": [
       "  0%|          | 0/129 [00:00<?, ?it/s]"
      ]
     },
     "metadata": {},
     "output_type": "display_data"
    },
    {
     "name": "stdout",
     "output_type": "stream",
     "text": [
      "total_num_correct_preds: 507\n",
      "MAE/RMSE/ACC: | AGEDB-Test: 10.126/12.810/3.077%\n",
      "\n",
      "---------------Epoch_66_model.pt-----------------\n",
      "\n"
     ]
    },
    {
     "data": {
      "application/vnd.jupyter.widget-view+json": {
       "model_id": "1a13cabf007c4e6f952f4f52be304566",
       "version_major": 2,
       "version_minor": 0
      },
      "text/plain": [
       "  0%|          | 0/129 [00:00<?, ?it/s]"
      ]
     },
     "metadata": {},
     "output_type": "display_data"
    },
    {
     "name": "stdout",
     "output_type": "stream",
     "text": [
      "total_num_correct_preds: 406\n",
      "MAE/RMSE/ACC: | AGEDB-Test: 13.429/16.985/2.464%\n",
      "\n",
      "---------------Epoch_67_model.pt-----------------\n",
      "\n"
     ]
    },
    {
     "data": {
      "application/vnd.jupyter.widget-view+json": {
       "model_id": "c89baf70b962430d80a6e0e8443fbb5c",
       "version_major": 2,
       "version_minor": 0
      },
      "text/plain": [
       "  0%|          | 0/129 [00:00<?, ?it/s]"
      ]
     },
     "metadata": {},
     "output_type": "display_data"
    },
    {
     "name": "stdout",
     "output_type": "stream",
     "text": [
      "total_num_correct_preds: 547\n",
      "MAE/RMSE/ACC: | AGEDB-Test: 10.274/13.351/3.320%\n",
      "\n",
      "---------------Epoch_68_model.pt-----------------\n",
      "\n"
     ]
    },
    {
     "data": {
      "application/vnd.jupyter.widget-view+json": {
       "model_id": "3d11e881c65f41498de968d8cc7d0789",
       "version_major": 2,
       "version_minor": 0
      },
      "text/plain": [
       "  0%|          | 0/129 [00:00<?, ?it/s]"
      ]
     },
     "metadata": {},
     "output_type": "display_data"
    },
    {
     "name": "stdout",
     "output_type": "stream",
     "text": [
      "total_num_correct_preds: 580\n",
      "MAE/RMSE/ACC: | AGEDB-Test: 9.914/12.751/3.520%\n",
      "\n",
      "---------------Epoch_69_model.pt-----------------\n",
      "\n"
     ]
    },
    {
     "data": {
      "application/vnd.jupyter.widget-view+json": {
       "model_id": "160410aff38c41c9b57ee9e94796dc77",
       "version_major": 2,
       "version_minor": 0
      },
      "text/plain": [
       "  0%|          | 0/129 [00:00<?, ?it/s]"
      ]
     },
     "metadata": {},
     "output_type": "display_data"
    },
    {
     "name": "stdout",
     "output_type": "stream",
     "text": [
      "total_num_correct_preds: 631\n",
      "MAE/RMSE/ACC: | AGEDB-Test: 9.694/12.560/3.829%\n",
      "\n",
      "---------------Epoch_70_model.pt-----------------\n",
      "\n"
     ]
    },
    {
     "data": {
      "application/vnd.jupyter.widget-view+json": {
       "model_id": "6f97086b59474fdd8cc33c28a9f43e27",
       "version_major": 2,
       "version_minor": 0
      },
      "text/plain": [
       "  0%|          | 0/129 [00:00<?, ?it/s]"
      ]
     },
     "metadata": {},
     "output_type": "display_data"
    },
    {
     "name": "stdout",
     "output_type": "stream",
     "text": [
      "total_num_correct_preds: 597\n",
      "MAE/RMSE/ACC: | AGEDB-Test: 9.686/12.462/3.623%\n",
      "\n",
      "---------------Epoch_71_model.pt-----------------\n",
      "\n"
     ]
    },
    {
     "data": {
      "application/vnd.jupyter.widget-view+json": {
       "model_id": "f34c920f3c6e457b97789951344b65ab",
       "version_major": 2,
       "version_minor": 0
      },
      "text/plain": [
       "  0%|          | 0/129 [00:00<?, ?it/s]"
      ]
     },
     "metadata": {},
     "output_type": "display_data"
    },
    {
     "name": "stdout",
     "output_type": "stream",
     "text": [
      "total_num_correct_preds: 582\n",
      "MAE/RMSE/ACC: | AGEDB-Test: 9.716/12.482/3.532%\n",
      "\n",
      "---------------Epoch_72_model.pt-----------------\n",
      "\n"
     ]
    },
    {
     "data": {
      "application/vnd.jupyter.widget-view+json": {
       "model_id": "ea944f32a94d4629a56215cd60478ed1",
       "version_major": 2,
       "version_minor": 0
      },
      "text/plain": [
       "  0%|          | 0/129 [00:00<?, ?it/s]"
      ]
     },
     "metadata": {},
     "output_type": "display_data"
    },
    {
     "name": "stdout",
     "output_type": "stream",
     "text": [
      "total_num_correct_preds: 597\n",
      "MAE/RMSE/ACC: | AGEDB-Test: 9.598/12.337/3.623%\n",
      "\n",
      "---------------Epoch_73_model.pt-----------------\n",
      "\n"
     ]
    },
    {
     "data": {
      "application/vnd.jupyter.widget-view+json": {
       "model_id": "ba6733b6c14e43ea99f55f389fe1b3b4",
       "version_major": 2,
       "version_minor": 0
      },
      "text/plain": [
       "  0%|          | 0/129 [00:00<?, ?it/s]"
      ]
     },
     "metadata": {},
     "output_type": "display_data"
    },
    {
     "name": "stdout",
     "output_type": "stream",
     "text": [
      "total_num_correct_preds: 556\n",
      "MAE/RMSE/ACC: | AGEDB-Test: 9.479/12.171/3.374%\n",
      "\n",
      "---------------Epoch_74_model.pt-----------------\n",
      "\n"
     ]
    },
    {
     "data": {
      "application/vnd.jupyter.widget-view+json": {
       "model_id": "b05f68fcf74348ec8aa33387a08ac2a5",
       "version_major": 2,
       "version_minor": 0
      },
      "text/plain": [
       "  0%|          | 0/129 [00:00<?, ?it/s]"
      ]
     },
     "metadata": {},
     "output_type": "display_data"
    },
    {
     "name": "stdout",
     "output_type": "stream",
     "text": [
      "total_num_correct_preds: 610\n",
      "MAE/RMSE/ACC: | AGEDB-Test: 9.704/12.503/3.702%\n",
      "\n",
      "---------------Epoch_75_model.pt-----------------\n",
      "\n"
     ]
    },
    {
     "data": {
      "application/vnd.jupyter.widget-view+json": {
       "model_id": "66ab099f4b3447bfb1d3fbb637c7e64e",
       "version_major": 2,
       "version_minor": 0
      },
      "text/plain": [
       "  0%|          | 0/129 [00:00<?, ?it/s]"
      ]
     },
     "metadata": {},
     "output_type": "display_data"
    },
    {
     "name": "stdout",
     "output_type": "stream",
     "text": [
      "total_num_correct_preds: 545\n",
      "MAE/RMSE/ACC: | AGEDB-Test: 9.550/12.193/3.307%\n",
      "\n",
      "---------------Epoch_76_model.pt-----------------\n",
      "\n"
     ]
    },
    {
     "data": {
      "application/vnd.jupyter.widget-view+json": {
       "model_id": "fe9b399618934a18b0e9ea3da72e8065",
       "version_major": 2,
       "version_minor": 0
      },
      "text/plain": [
       "  0%|          | 0/129 [00:00<?, ?it/s]"
      ]
     },
     "metadata": {},
     "output_type": "display_data"
    },
    {
     "name": "stdout",
     "output_type": "stream",
     "text": [
      "total_num_correct_preds: 570\n",
      "MAE/RMSE/ACC: | AGEDB-Test: 9.612/12.329/3.459%\n",
      "\n",
      "---------------Epoch_77_model.pt-----------------\n",
      "\n"
     ]
    },
    {
     "data": {
      "application/vnd.jupyter.widget-view+json": {
       "model_id": "eb5fdd33d09f4ed589d7555bf82f8e58",
       "version_major": 2,
       "version_minor": 0
      },
      "text/plain": [
       "  0%|          | 0/129 [00:00<?, ?it/s]"
      ]
     },
     "metadata": {},
     "output_type": "display_data"
    },
    {
     "name": "stdout",
     "output_type": "stream",
     "text": [
      "total_num_correct_preds: 579\n",
      "MAE/RMSE/ACC: | AGEDB-Test: 9.875/12.612/3.514%\n",
      "\n",
      "---------------Epoch_78_model.pt-----------------\n",
      "\n"
     ]
    },
    {
     "data": {
      "application/vnd.jupyter.widget-view+json": {
       "model_id": "a45e8265adc84e62b39eca9324a85f26",
       "version_major": 2,
       "version_minor": 0
      },
      "text/plain": [
       "  0%|          | 0/129 [00:00<?, ?it/s]"
      ]
     },
     "metadata": {},
     "output_type": "display_data"
    },
    {
     "name": "stdout",
     "output_type": "stream",
     "text": [
      "total_num_correct_preds: 578\n",
      "MAE/RMSE/ACC: | AGEDB-Test: 9.738/12.521/3.508%\n",
      "\n",
      "---------------Epoch_79_model.pt-----------------\n",
      "\n"
     ]
    },
    {
     "data": {
      "application/vnd.jupyter.widget-view+json": {
       "model_id": "14358de443c4482c9758b2cae7c008fc",
       "version_major": 2,
       "version_minor": 0
      },
      "text/plain": [
       "  0%|          | 0/129 [00:00<?, ?it/s]"
      ]
     },
     "metadata": {},
     "output_type": "display_data"
    },
    {
     "name": "stdout",
     "output_type": "stream",
     "text": [
      "total_num_correct_preds: 587\n",
      "MAE/RMSE/ACC: | AGEDB-Test: 9.729/12.485/3.562%\n",
      "\n",
      "---------------Epoch_80_model.pt-----------------\n",
      "\n"
     ]
    },
    {
     "data": {
      "application/vnd.jupyter.widget-view+json": {
       "model_id": "cec412e436474128b77025aa9e55c154",
       "version_major": 2,
       "version_minor": 0
      },
      "text/plain": [
       "  0%|          | 0/129 [00:00<?, ?it/s]"
      ]
     },
     "metadata": {},
     "output_type": "display_data"
    },
    {
     "name": "stdout",
     "output_type": "stream",
     "text": [
      "total_num_correct_preds: 561\n",
      "MAE/RMSE/ACC: | AGEDB-Test: 9.757/12.441/3.405%\n",
      "\n",
      "---------------Epoch_81_model.pt-----------------\n",
      "\n"
     ]
    },
    {
     "data": {
      "application/vnd.jupyter.widget-view+json": {
       "model_id": "568f7187f47742c7ae3ac4d8c00cc2d5",
       "version_major": 2,
       "version_minor": 0
      },
      "text/plain": [
       "  0%|          | 0/129 [00:00<?, ?it/s]"
      ]
     },
     "metadata": {},
     "output_type": "display_data"
    },
    {
     "name": "stdout",
     "output_type": "stream",
     "text": [
      "total_num_correct_preds: 576\n",
      "MAE/RMSE/ACC: | AGEDB-Test: 9.569/12.314/3.496%\n",
      "\n",
      "---------------Epoch_82_model.pt-----------------\n",
      "\n"
     ]
    },
    {
     "data": {
      "application/vnd.jupyter.widget-view+json": {
       "model_id": "897c2d4f6d4c45ef88978d96cd2f8d68",
       "version_major": 2,
       "version_minor": 0
      },
      "text/plain": [
       "  0%|          | 0/129 [00:00<?, ?it/s]"
      ]
     },
     "metadata": {},
     "output_type": "display_data"
    },
    {
     "name": "stdout",
     "output_type": "stream",
     "text": [
      "total_num_correct_preds: 614\n",
      "MAE/RMSE/ACC: | AGEDB-Test: 9.784/12.682/3.726%\n",
      "\n",
      "---------------Epoch_83_model.pt-----------------\n",
      "\n"
     ]
    },
    {
     "data": {
      "application/vnd.jupyter.widget-view+json": {
       "model_id": "851d8bc78a53468aa88d1246487be581",
       "version_major": 2,
       "version_minor": 0
      },
      "text/plain": [
       "  0%|          | 0/129 [00:00<?, ?it/s]"
      ]
     },
     "metadata": {},
     "output_type": "display_data"
    },
    {
     "name": "stdout",
     "output_type": "stream",
     "text": [
      "total_num_correct_preds: 565\n",
      "MAE/RMSE/ACC: | AGEDB-Test: 9.804/12.638/3.429%\n",
      "\n",
      "---------------Epoch_84_model.pt-----------------\n",
      "\n"
     ]
    },
    {
     "data": {
      "application/vnd.jupyter.widget-view+json": {
       "model_id": "e16ce0e08f064f8297860ebbe9abb841",
       "version_major": 2,
       "version_minor": 0
      },
      "text/plain": [
       "  0%|          | 0/129 [00:00<?, ?it/s]"
      ]
     },
     "metadata": {},
     "output_type": "display_data"
    },
    {
     "name": "stdout",
     "output_type": "stream",
     "text": [
      "total_num_correct_preds: 570\n",
      "MAE/RMSE/ACC: | AGEDB-Test: 9.728/12.430/3.459%\n",
      "\n",
      "---------------Epoch_85_model.pt-----------------\n",
      "\n"
     ]
    },
    {
     "data": {
      "application/vnd.jupyter.widget-view+json": {
       "model_id": "1488b915f1f440da87ff2c7d863e5d5b",
       "version_major": 2,
       "version_minor": 0
      },
      "text/plain": [
       "  0%|          | 0/129 [00:00<?, ?it/s]"
      ]
     },
     "metadata": {},
     "output_type": "display_data"
    },
    {
     "name": "stdout",
     "output_type": "stream",
     "text": [
      "total_num_correct_preds: 584\n",
      "MAE/RMSE/ACC: | AGEDB-Test: 9.732/12.559/3.544%\n",
      "\n",
      "---------------Epoch_86_model.pt-----------------\n",
      "\n"
     ]
    },
    {
     "data": {
      "application/vnd.jupyter.widget-view+json": {
       "model_id": "58e88769a2d14962ace56c066d4e59c9",
       "version_major": 2,
       "version_minor": 0
      },
      "text/plain": [
       "  0%|          | 0/129 [00:00<?, ?it/s]"
      ]
     },
     "metadata": {},
     "output_type": "display_data"
    },
    {
     "name": "stdout",
     "output_type": "stream",
     "text": [
      "total_num_correct_preds: 547\n",
      "MAE/RMSE/ACC: | AGEDB-Test: 11.396/14.808/3.320%\n",
      "\n",
      "---------------Epoch_87_model.pt-----------------\n",
      "\n"
     ]
    },
    {
     "data": {
      "application/vnd.jupyter.widget-view+json": {
       "model_id": "0e9e69798d0d4e9ea1023f044c067e09",
       "version_major": 2,
       "version_minor": 0
      },
      "text/plain": [
       "  0%|          | 0/129 [00:00<?, ?it/s]"
      ]
     },
     "metadata": {},
     "output_type": "display_data"
    },
    {
     "name": "stdout",
     "output_type": "stream",
     "text": [
      "total_num_correct_preds: 524\n",
      "MAE/RMSE/ACC: | AGEDB-Test: 10.883/14.197/3.180%\n",
      "\n",
      "---------------Epoch_88_model.pt-----------------\n",
      "\n"
     ]
    },
    {
     "data": {
      "application/vnd.jupyter.widget-view+json": {
       "model_id": "530ca07a3e37444497b0c07370f86500",
       "version_major": 2,
       "version_minor": 0
      },
      "text/plain": [
       "  0%|          | 0/129 [00:00<?, ?it/s]"
      ]
     },
     "metadata": {},
     "output_type": "display_data"
    },
    {
     "name": "stdout",
     "output_type": "stream",
     "text": [
      "total_num_correct_preds: 537\n",
      "MAE/RMSE/ACC: | AGEDB-Test: 10.078/12.916/3.259%\n",
      "\n",
      "---------------Epoch_89_model.pt-----------------\n",
      "\n"
     ]
    },
    {
     "data": {
      "application/vnd.jupyter.widget-view+json": {
       "model_id": "2393f96dbab24f149a5990b22e54f1ec",
       "version_major": 2,
       "version_minor": 0
      },
      "text/plain": [
       "  0%|          | 0/129 [00:00<?, ?it/s]"
      ]
     },
     "metadata": {},
     "output_type": "display_data"
    },
    {
     "name": "stdout",
     "output_type": "stream",
     "text": [
      "total_num_correct_preds: 546\n",
      "MAE/RMSE/ACC: | AGEDB-Test: 9.775/12.531/3.314%\n",
      "\n",
      "---------------Epoch_90_model.pt-----------------\n",
      "\n"
     ]
    },
    {
     "data": {
      "application/vnd.jupyter.widget-view+json": {
       "model_id": "25dbd8c27b3b4efebcf9f9783ac856ff",
       "version_major": 2,
       "version_minor": 0
      },
      "text/plain": [
       "  0%|          | 0/129 [00:00<?, ?it/s]"
      ]
     },
     "metadata": {},
     "output_type": "display_data"
    },
    {
     "name": "stdout",
     "output_type": "stream",
     "text": [
      "total_num_correct_preds: 571\n",
      "MAE/RMSE/ACC: | AGEDB-Test: 9.883/12.643/3.465%\n",
      "\n",
      "---------------Epoch_91_model.pt-----------------\n",
      "\n"
     ]
    },
    {
     "data": {
      "application/vnd.jupyter.widget-view+json": {
       "model_id": "072c88215f6b4b62a088e89b8680be1b",
       "version_major": 2,
       "version_minor": 0
      },
      "text/plain": [
       "  0%|          | 0/129 [00:00<?, ?it/s]"
      ]
     },
     "metadata": {},
     "output_type": "display_data"
    },
    {
     "name": "stdout",
     "output_type": "stream",
     "text": [
      "total_num_correct_preds: 562\n",
      "MAE/RMSE/ACC: | AGEDB-Test: 9.808/12.603/3.411%\n",
      "\n",
      "---------------Epoch_92_model.pt-----------------\n",
      "\n"
     ]
    },
    {
     "data": {
      "application/vnd.jupyter.widget-view+json": {
       "model_id": "49743f23a74f447cb7a405ac2b3f9b0e",
       "version_major": 2,
       "version_minor": 0
      },
      "text/plain": [
       "  0%|          | 0/129 [00:00<?, ?it/s]"
      ]
     },
     "metadata": {},
     "output_type": "display_data"
    },
    {
     "name": "stdout",
     "output_type": "stream",
     "text": [
      "total_num_correct_preds: 581\n",
      "MAE/RMSE/ACC: | AGEDB-Test: 9.713/12.477/3.526%\n",
      "\n",
      "---------------Epoch_93_model.pt-----------------\n",
      "\n"
     ]
    },
    {
     "data": {
      "application/vnd.jupyter.widget-view+json": {
       "model_id": "98015129716d4e3d8fc849599a1dd81a",
       "version_major": 2,
       "version_minor": 0
      },
      "text/plain": [
       "  0%|          | 0/129 [00:00<?, ?it/s]"
      ]
     },
     "metadata": {},
     "output_type": "display_data"
    },
    {
     "name": "stdout",
     "output_type": "stream",
     "text": [
      "total_num_correct_preds: 581\n",
      "MAE/RMSE/ACC: | AGEDB-Test: 9.707/12.448/3.526%\n",
      "\n",
      "---------------Epoch_94_model.pt-----------------\n",
      "\n"
     ]
    },
    {
     "data": {
      "application/vnd.jupyter.widget-view+json": {
       "model_id": "aeee046095d84bafaf5fcf09c5236e30",
       "version_major": 2,
       "version_minor": 0
      },
      "text/plain": [
       "  0%|          | 0/129 [00:00<?, ?it/s]"
      ]
     },
     "metadata": {},
     "output_type": "display_data"
    },
    {
     "name": "stdout",
     "output_type": "stream",
     "text": [
      "total_num_correct_preds: 575\n",
      "MAE/RMSE/ACC: | AGEDB-Test: 9.803/12.504/3.490%\n",
      "\n",
      "---------------Epoch_95_model.pt-----------------\n",
      "\n"
     ]
    },
    {
     "data": {
      "application/vnd.jupyter.widget-view+json": {
       "model_id": "20b347eea6e342bb9b920e117a9e08c4",
       "version_major": 2,
       "version_minor": 0
      },
      "text/plain": [
       "  0%|          | 0/129 [00:00<?, ?it/s]"
      ]
     },
     "metadata": {},
     "output_type": "display_data"
    },
    {
     "name": "stdout",
     "output_type": "stream",
     "text": [
      "total_num_correct_preds: 582\n",
      "MAE/RMSE/ACC: | AGEDB-Test: 9.691/12.453/3.532%\n",
      "\n",
      "---------------Epoch_96_model.pt-----------------\n",
      "\n"
     ]
    },
    {
     "data": {
      "application/vnd.jupyter.widget-view+json": {
       "model_id": "a65656b6bad14af4b35dd764703665fe",
       "version_major": 2,
       "version_minor": 0
      },
      "text/plain": [
       "  0%|          | 0/129 [00:00<?, ?it/s]"
      ]
     },
     "metadata": {},
     "output_type": "display_data"
    },
    {
     "name": "stdout",
     "output_type": "stream",
     "text": [
      "total_num_correct_preds: 577\n",
      "MAE/RMSE/ACC: | AGEDB-Test: 9.694/12.403/3.502%\n",
      "\n",
      "---------------Epoch_97_model.pt-----------------\n",
      "\n"
     ]
    },
    {
     "data": {
      "application/vnd.jupyter.widget-view+json": {
       "model_id": "836035ffb6684940863e942c702a4bd3",
       "version_major": 2,
       "version_minor": 0
      },
      "text/plain": [
       "  0%|          | 0/129 [00:00<?, ?it/s]"
      ]
     },
     "metadata": {},
     "output_type": "display_data"
    },
    {
     "name": "stdout",
     "output_type": "stream",
     "text": [
      "total_num_correct_preds: 570\n",
      "MAE/RMSE/ACC: | AGEDB-Test: 9.642/12.394/3.459%\n",
      "\n",
      "---------------Epoch_98_model.pt-----------------\n",
      "\n"
     ]
    },
    {
     "data": {
      "application/vnd.jupyter.widget-view+json": {
       "model_id": "246cae9aeda8487b858f26de49a703e5",
       "version_major": 2,
       "version_minor": 0
      },
      "text/plain": [
       "  0%|          | 0/129 [00:00<?, ?it/s]"
      ]
     },
     "metadata": {},
     "output_type": "display_data"
    },
    {
     "name": "stdout",
     "output_type": "stream",
     "text": [
      "total_num_correct_preds: 601\n",
      "MAE/RMSE/ACC: | AGEDB-Test: 9.672/12.406/3.647%\n",
      "\n",
      "---------------Epoch_99_model.pt-----------------\n",
      "\n"
     ]
    },
    {
     "data": {
      "application/vnd.jupyter.widget-view+json": {
       "model_id": "0f23f0de966a4771b364c692dba402ba",
       "version_major": 2,
       "version_minor": 0
      },
      "text/plain": [
       "  0%|          | 0/129 [00:00<?, ?it/s]"
      ]
     },
     "metadata": {},
     "output_type": "display_data"
    },
    {
     "name": "stdout",
     "output_type": "stream",
     "text": [
      "total_num_correct_preds: 593\n",
      "MAE/RMSE/ACC: | AGEDB-Test: 9.625/12.368/3.599%\n",
      "\n",
      "---------------Epoch_100_model.pt-----------------\n",
      "\n"
     ]
    },
    {
     "data": {
      "application/vnd.jupyter.widget-view+json": {
       "model_id": "57db241e43bc4ad0828d66c4b84e7c87",
       "version_major": 2,
       "version_minor": 0
      },
      "text/plain": [
       "  0%|          | 0/129 [00:00<?, ?it/s]"
      ]
     },
     "metadata": {},
     "output_type": "display_data"
    },
    {
     "name": "stdout",
     "output_type": "stream",
     "text": [
      "total_num_correct_preds: 599\n",
      "MAE/RMSE/ACC: | AGEDB-Test: 9.565/12.252/3.635%\n",
      "\n",
      "---------------Epoch_101_model.pt-----------------\n",
      "\n"
     ]
    },
    {
     "data": {
      "application/vnd.jupyter.widget-view+json": {
       "model_id": "a9efa656a48c4dd2b17b05f8620a97df",
       "version_major": 2,
       "version_minor": 0
      },
      "text/plain": [
       "  0%|          | 0/129 [00:00<?, ?it/s]"
      ]
     },
     "metadata": {},
     "output_type": "display_data"
    },
    {
     "name": "stdout",
     "output_type": "stream",
     "text": [
      "total_num_correct_preds: 575\n",
      "MAE/RMSE/ACC: | AGEDB-Test: 9.867/12.612/3.490%\n",
      "\n",
      "---------------Epoch_102_model.pt-----------------\n",
      "\n"
     ]
    },
    {
     "data": {
      "application/vnd.jupyter.widget-view+json": {
       "model_id": "914753ca884a41d186c7a13605049e31",
       "version_major": 2,
       "version_minor": 0
      },
      "text/plain": [
       "  0%|          | 0/129 [00:00<?, ?it/s]"
      ]
     },
     "metadata": {},
     "output_type": "display_data"
    },
    {
     "name": "stdout",
     "output_type": "stream",
     "text": [
      "total_num_correct_preds: 613\n",
      "MAE/RMSE/ACC: | AGEDB-Test: 9.678/12.441/3.720%\n",
      "\n",
      "---------------Epoch_103_model.pt-----------------\n",
      "\n"
     ]
    },
    {
     "data": {
      "application/vnd.jupyter.widget-view+json": {
       "model_id": "598fe8f246ff4372bb33b980d640323f",
       "version_major": 2,
       "version_minor": 0
      },
      "text/plain": [
       "  0%|          | 0/129 [00:00<?, ?it/s]"
      ]
     },
     "metadata": {},
     "output_type": "display_data"
    },
    {
     "name": "stdout",
     "output_type": "stream",
     "text": [
      "total_num_correct_preds: 591\n",
      "MAE/RMSE/ACC: | AGEDB-Test: 9.599/12.301/3.587%\n",
      "\n",
      "---------------Epoch_104_model.pt-----------------\n",
      "\n"
     ]
    },
    {
     "data": {
      "application/vnd.jupyter.widget-view+json": {
       "model_id": "2c5e62d7d0ce47019c86ca3632edb2cf",
       "version_major": 2,
       "version_minor": 0
      },
      "text/plain": [
       "  0%|          | 0/129 [00:00<?, ?it/s]"
      ]
     },
     "metadata": {},
     "output_type": "display_data"
    },
    {
     "name": "stdout",
     "output_type": "stream",
     "text": [
      "total_num_correct_preds: 632\n",
      "MAE/RMSE/ACC: | AGEDB-Test: 9.593/12.388/3.835%\n",
      "\n",
      "---------------Epoch_105_model.pt-----------------\n",
      "\n"
     ]
    },
    {
     "data": {
      "application/vnd.jupyter.widget-view+json": {
       "model_id": "cce02850e1fd43c8a894e1caf34de390",
       "version_major": 2,
       "version_minor": 0
      },
      "text/plain": [
       "  0%|          | 0/129 [00:00<?, ?it/s]"
      ]
     },
     "metadata": {},
     "output_type": "display_data"
    },
    {
     "name": "stdout",
     "output_type": "stream",
     "text": [
      "total_num_correct_preds: 566\n",
      "MAE/RMSE/ACC: | AGEDB-Test: 9.751/12.545/3.435%\n",
      "\n",
      "---------------Epoch_106_model.pt-----------------\n",
      "\n"
     ]
    },
    {
     "data": {
      "application/vnd.jupyter.widget-view+json": {
       "model_id": "111da50ef1384f0c94d5d5b5be753c4c",
       "version_major": 2,
       "version_minor": 0
      },
      "text/plain": [
       "  0%|          | 0/129 [00:00<?, ?it/s]"
      ]
     },
     "metadata": {},
     "output_type": "display_data"
    },
    {
     "name": "stdout",
     "output_type": "stream",
     "text": [
      "total_num_correct_preds: 602\n",
      "MAE/RMSE/ACC: | AGEDB-Test: 9.616/12.290/3.653%\n",
      "\n",
      "---------------Epoch_107_model.pt-----------------\n",
      "\n"
     ]
    },
    {
     "data": {
      "application/vnd.jupyter.widget-view+json": {
       "model_id": "ad76abda59004084a41370fa69d29743",
       "version_major": 2,
       "version_minor": 0
      },
      "text/plain": [
       "  0%|          | 0/129 [00:00<?, ?it/s]"
      ]
     },
     "metadata": {},
     "output_type": "display_data"
    },
    {
     "name": "stdout",
     "output_type": "stream",
     "text": [
      "total_num_correct_preds: 552\n",
      "MAE/RMSE/ACC: | AGEDB-Test: 10.210/13.236/3.350%\n",
      "\n",
      "---------------Epoch_108_model.pt-----------------\n",
      "\n"
     ]
    },
    {
     "data": {
      "application/vnd.jupyter.widget-view+json": {
       "model_id": "f2babb4f926349729f173c08097c2c47",
       "version_major": 2,
       "version_minor": 0
      },
      "text/plain": [
       "  0%|          | 0/129 [00:00<?, ?it/s]"
      ]
     },
     "metadata": {},
     "output_type": "display_data"
    },
    {
     "name": "stdout",
     "output_type": "stream",
     "text": [
      "total_num_correct_preds: 544\n",
      "MAE/RMSE/ACC: | AGEDB-Test: 9.811/12.572/3.301%\n",
      "\n",
      "---------------Epoch_109_model.pt-----------------\n",
      "\n"
     ]
    },
    {
     "data": {
      "application/vnd.jupyter.widget-view+json": {
       "model_id": "db73f3568b694ff194d9bd0de5315994",
       "version_major": 2,
       "version_minor": 0
      },
      "text/plain": [
       "  0%|          | 0/129 [00:00<?, ?it/s]"
      ]
     },
     "metadata": {},
     "output_type": "display_data"
    },
    {
     "name": "stdout",
     "output_type": "stream",
     "text": [
      "total_num_correct_preds: 491\n",
      "MAE/RMSE/ACC: | AGEDB-Test: 11.272/14.592/2.980%\n",
      "\n",
      "---------------Epoch_110_model.pt-----------------\n",
      "\n"
     ]
    },
    {
     "data": {
      "application/vnd.jupyter.widget-view+json": {
       "model_id": "2c38cba987fd46fe81f89fd6a534ae1f",
       "version_major": 2,
       "version_minor": 0
      },
      "text/plain": [
       "  0%|          | 0/129 [00:00<?, ?it/s]"
      ]
     },
     "metadata": {},
     "output_type": "display_data"
    },
    {
     "name": "stdout",
     "output_type": "stream",
     "text": [
      "total_num_correct_preds: 532\n",
      "MAE/RMSE/ACC: | AGEDB-Test: 10.969/14.213/3.229%\n",
      "\n",
      "---------------Epoch_111_model.pt-----------------\n",
      "\n"
     ]
    },
    {
     "data": {
      "application/vnd.jupyter.widget-view+json": {
       "model_id": "b913b36977e34d1da3e3c1d7949306b7",
       "version_major": 2,
       "version_minor": 0
      },
      "text/plain": [
       "  0%|          | 0/129 [00:00<?, ?it/s]"
      ]
     },
     "metadata": {},
     "output_type": "display_data"
    },
    {
     "name": "stdout",
     "output_type": "stream",
     "text": [
      "total_num_correct_preds: 590\n",
      "MAE/RMSE/ACC: | AGEDB-Test: 9.733/12.557/3.581%\n",
      "\n",
      "---------------Epoch_112_model.pt-----------------\n",
      "\n"
     ]
    },
    {
     "data": {
      "application/vnd.jupyter.widget-view+json": {
       "model_id": "d1ea6df8a4924960809cd737a7d6a69a",
       "version_major": 2,
       "version_minor": 0
      },
      "text/plain": [
       "  0%|          | 0/129 [00:00<?, ?it/s]"
      ]
     },
     "metadata": {},
     "output_type": "display_data"
    },
    {
     "name": "stdout",
     "output_type": "stream",
     "text": [
      "total_num_correct_preds: 559\n",
      "MAE/RMSE/ACC: | AGEDB-Test: 9.735/12.494/3.392%\n",
      "\n",
      "---------------Epoch_113_model.pt-----------------\n",
      "\n"
     ]
    },
    {
     "data": {
      "application/vnd.jupyter.widget-view+json": {
       "model_id": "0a7715908dae447d9d69bc1ae4758f7b",
       "version_major": 2,
       "version_minor": 0
      },
      "text/plain": [
       "  0%|          | 0/129 [00:00<?, ?it/s]"
      ]
     },
     "metadata": {},
     "output_type": "display_data"
    },
    {
     "name": "stdout",
     "output_type": "stream",
     "text": [
      "total_num_correct_preds: 590\n",
      "MAE/RMSE/ACC: | AGEDB-Test: 9.709/12.559/3.581%\n",
      "\n",
      "---------------Epoch_114_model.pt-----------------\n",
      "\n"
     ]
    },
    {
     "data": {
      "application/vnd.jupyter.widget-view+json": {
       "model_id": "0fd98db7e31a44a9b9843c86c16230ac",
       "version_major": 2,
       "version_minor": 0
      },
      "text/plain": [
       "  0%|          | 0/129 [00:00<?, ?it/s]"
      ]
     },
     "metadata": {},
     "output_type": "display_data"
    },
    {
     "name": "stdout",
     "output_type": "stream",
     "text": [
      "total_num_correct_preds: 604\n",
      "MAE/RMSE/ACC: | AGEDB-Test: 9.649/12.430/3.665%\n",
      "\n",
      "---------------Epoch_115_model.pt-----------------\n",
      "\n"
     ]
    },
    {
     "data": {
      "application/vnd.jupyter.widget-view+json": {
       "model_id": "51baccfa51f64b738469eb75b8b7b3e0",
       "version_major": 2,
       "version_minor": 0
      },
      "text/plain": [
       "  0%|          | 0/129 [00:00<?, ?it/s]"
      ]
     },
     "metadata": {},
     "output_type": "display_data"
    },
    {
     "name": "stdout",
     "output_type": "stream",
     "text": [
      "total_num_correct_preds: 557\n",
      "MAE/RMSE/ACC: | AGEDB-Test: 9.679/12.429/3.380%\n",
      "\n",
      "---------------Epoch_116_model.pt-----------------\n",
      "\n"
     ]
    },
    {
     "data": {
      "application/vnd.jupyter.widget-view+json": {
       "model_id": "c26aeaf50a2a4c8fa3658252a4840947",
       "version_major": 2,
       "version_minor": 0
      },
      "text/plain": [
       "  0%|          | 0/129 [00:00<?, ?it/s]"
      ]
     },
     "metadata": {},
     "output_type": "display_data"
    },
    {
     "name": "stdout",
     "output_type": "stream",
     "text": [
      "total_num_correct_preds: 621\n",
      "MAE/RMSE/ACC: | AGEDB-Test: 9.597/12.388/3.769%\n",
      "\n",
      "---------------Epoch_117_model.pt-----------------\n",
      "\n"
     ]
    },
    {
     "data": {
      "application/vnd.jupyter.widget-view+json": {
       "model_id": "73f29b74013648cc8cfa3bbae6122832",
       "version_major": 2,
       "version_minor": 0
      },
      "text/plain": [
       "  0%|          | 0/129 [00:00<?, ?it/s]"
      ]
     },
     "metadata": {},
     "output_type": "display_data"
    },
    {
     "name": "stdout",
     "output_type": "stream",
     "text": [
      "total_num_correct_preds: 603\n",
      "MAE/RMSE/ACC: | AGEDB-Test: 9.575/12.296/3.659%\n",
      "\n",
      "---------------Epoch_118_model.pt-----------------\n",
      "\n"
     ]
    },
    {
     "data": {
      "application/vnd.jupyter.widget-view+json": {
       "model_id": "085bf1ef9fd2456abc3a75c8d16c19a8",
       "version_major": 2,
       "version_minor": 0
      },
      "text/plain": [
       "  0%|          | 0/129 [00:00<?, ?it/s]"
      ]
     },
     "metadata": {},
     "output_type": "display_data"
    },
    {
     "name": "stdout",
     "output_type": "stream",
     "text": [
      "total_num_correct_preds: 602\n",
      "MAE/RMSE/ACC: | AGEDB-Test: 9.644/12.416/3.653%\n",
      "\n",
      "---------------Epoch_119_model.pt-----------------\n",
      "\n"
     ]
    },
    {
     "data": {
      "application/vnd.jupyter.widget-view+json": {
       "model_id": "334c29e2a4e4437fad4e2a17597ac8a4",
       "version_major": 2,
       "version_minor": 0
      },
      "text/plain": [
       "  0%|          | 0/129 [00:00<?, ?it/s]"
      ]
     },
     "metadata": {},
     "output_type": "display_data"
    },
    {
     "name": "stdout",
     "output_type": "stream",
     "text": [
      "total_num_correct_preds: 597\n",
      "MAE/RMSE/ACC: | AGEDB-Test: 9.627/12.477/3.623%\n",
      "\n",
      "---------------Epoch_120_model.pt-----------------\n",
      "\n"
     ]
    },
    {
     "data": {
      "application/vnd.jupyter.widget-view+json": {
       "model_id": "0ec9e905d9b647a38edd41128158eb05",
       "version_major": 2,
       "version_minor": 0
      },
      "text/plain": [
       "  0%|          | 0/129 [00:00<?, ?it/s]"
      ]
     },
     "metadata": {},
     "output_type": "display_data"
    },
    {
     "name": "stdout",
     "output_type": "stream",
     "text": [
      "total_num_correct_preds: 626\n",
      "MAE/RMSE/ACC: | AGEDB-Test: 9.475/12.246/3.799%\n",
      "\n",
      "---------------Epoch_121_model.pt-----------------\n",
      "\n"
     ]
    },
    {
     "data": {
      "application/vnd.jupyter.widget-view+json": {
       "model_id": "fe54f4f34d744dc9953fc12ae52715a6",
       "version_major": 2,
       "version_minor": 0
      },
      "text/plain": [
       "  0%|          | 0/129 [00:00<?, ?it/s]"
      ]
     },
     "metadata": {},
     "output_type": "display_data"
    },
    {
     "name": "stdout",
     "output_type": "stream",
     "text": [
      "total_num_correct_preds: 632\n",
      "MAE/RMSE/ACC: | AGEDB-Test: 9.488/12.207/3.835%\n",
      "\n",
      "---------------Epoch_122_model.pt-----------------\n",
      "\n"
     ]
    },
    {
     "data": {
      "application/vnd.jupyter.widget-view+json": {
       "model_id": "8ddc25524d234fef8799db8f5dc0f66d",
       "version_major": 2,
       "version_minor": 0
      },
      "text/plain": [
       "  0%|          | 0/129 [00:00<?, ?it/s]"
      ]
     },
     "metadata": {},
     "output_type": "display_data"
    },
    {
     "name": "stdout",
     "output_type": "stream",
     "text": [
      "total_num_correct_preds: 603\n",
      "MAE/RMSE/ACC: | AGEDB-Test: 9.577/12.340/3.659%\n",
      "\n",
      "---------------Epoch_123_model.pt-----------------\n",
      "\n"
     ]
    },
    {
     "data": {
      "application/vnd.jupyter.widget-view+json": {
       "model_id": "2fef1bfebc654453aef5f50b2544fd6c",
       "version_major": 2,
       "version_minor": 0
      },
      "text/plain": [
       "  0%|          | 0/129 [00:00<?, ?it/s]"
      ]
     },
     "metadata": {},
     "output_type": "display_data"
    },
    {
     "name": "stdout",
     "output_type": "stream",
     "text": [
      "total_num_correct_preds: 567\n",
      "MAE/RMSE/ACC: | AGEDB-Test: 9.654/12.421/3.441%\n",
      "\n",
      "---------------Epoch_124_model.pt-----------------\n",
      "\n"
     ]
    },
    {
     "data": {
      "application/vnd.jupyter.widget-view+json": {
       "model_id": "96bda137b1b647d5bb41359873488654",
       "version_major": 2,
       "version_minor": 0
      },
      "text/plain": [
       "  0%|          | 0/129 [00:00<?, ?it/s]"
      ]
     },
     "metadata": {},
     "output_type": "display_data"
    },
    {
     "name": "stdout",
     "output_type": "stream",
     "text": [
      "total_num_correct_preds: 631\n",
      "MAE/RMSE/ACC: | AGEDB-Test: 9.458/12.169/3.829%\n",
      "\n",
      "---------------Epoch_125_model.pt-----------------\n",
      "\n"
     ]
    },
    {
     "data": {
      "application/vnd.jupyter.widget-view+json": {
       "model_id": "6bb29d012a004f9fa181db547532675f",
       "version_major": 2,
       "version_minor": 0
      },
      "text/plain": [
       "  0%|          | 0/129 [00:00<?, ?it/s]"
      ]
     },
     "metadata": {},
     "output_type": "display_data"
    },
    {
     "name": "stdout",
     "output_type": "stream",
     "text": [
      "total_num_correct_preds: 576\n",
      "MAE/RMSE/ACC: | AGEDB-Test: 10.674/13.859/3.496%\n",
      "\n",
      "---------------Epoch_126_model.pt-----------------\n",
      "\n"
     ]
    },
    {
     "data": {
      "application/vnd.jupyter.widget-view+json": {
       "model_id": "6f10bcdc642d4cd4bc65beea2fcf6f0d",
       "version_major": 2,
       "version_minor": 0
      },
      "text/plain": [
       "  0%|          | 0/129 [00:00<?, ?it/s]"
      ]
     },
     "metadata": {},
     "output_type": "display_data"
    },
    {
     "name": "stdout",
     "output_type": "stream",
     "text": [
      "total_num_correct_preds: 586\n",
      "MAE/RMSE/ACC: | AGEDB-Test: 9.805/12.613/3.556%\n",
      "\n",
      "---------------Epoch_127_model.pt-----------------\n",
      "\n"
     ]
    },
    {
     "data": {
      "application/vnd.jupyter.widget-view+json": {
       "model_id": "9fe3b283a53e46369e719f6ac399920d",
       "version_major": 2,
       "version_minor": 0
      },
      "text/plain": [
       "  0%|          | 0/129 [00:00<?, ?it/s]"
      ]
     },
     "metadata": {},
     "output_type": "display_data"
    },
    {
     "name": "stdout",
     "output_type": "stream",
     "text": [
      "total_num_correct_preds: 589\n",
      "MAE/RMSE/ACC: | AGEDB-Test: 9.579/12.302/3.574%\n",
      "\n",
      "---------------Epoch_128_model.pt-----------------\n",
      "\n"
     ]
    },
    {
     "data": {
      "application/vnd.jupyter.widget-view+json": {
       "model_id": "29d49a62b6c54302b984979f42f67620",
       "version_major": 2,
       "version_minor": 0
      },
      "text/plain": [
       "  0%|          | 0/129 [00:00<?, ?it/s]"
      ]
     },
     "metadata": {},
     "output_type": "display_data"
    },
    {
     "name": "stdout",
     "output_type": "stream",
     "text": [
      "total_num_correct_preds: 590\n",
      "MAE/RMSE/ACC: | AGEDB-Test: 9.554/12.242/3.581%\n",
      "\n",
      "---------------Epoch_129_model.pt-----------------\n",
      "\n"
     ]
    },
    {
     "data": {
      "application/vnd.jupyter.widget-view+json": {
       "model_id": "223cb044927d49ba8ba13463e1723941",
       "version_major": 2,
       "version_minor": 0
      },
      "text/plain": [
       "  0%|          | 0/129 [00:00<?, ?it/s]"
      ]
     },
     "metadata": {},
     "output_type": "display_data"
    },
    {
     "name": "stdout",
     "output_type": "stream",
     "text": [
      "total_num_correct_preds: 577\n",
      "MAE/RMSE/ACC: | AGEDB-Test: 9.544/12.239/3.502%\n",
      "\n",
      "---------------Epoch_130_model.pt-----------------\n",
      "\n"
     ]
    },
    {
     "data": {
      "application/vnd.jupyter.widget-view+json": {
       "model_id": "9870bd31eb3244b99818a4bfeeb50f0a",
       "version_major": 2,
       "version_minor": 0
      },
      "text/plain": [
       "  0%|          | 0/129 [00:00<?, ?it/s]"
      ]
     },
     "metadata": {},
     "output_type": "display_data"
    },
    {
     "name": "stdout",
     "output_type": "stream",
     "text": [
      "total_num_correct_preds: 579\n",
      "MAE/RMSE/ACC: | AGEDB-Test: 10.094/13.112/3.514%\n",
      "\n",
      "---------------Epoch_131_model.pt-----------------\n",
      "\n"
     ]
    },
    {
     "data": {
      "application/vnd.jupyter.widget-view+json": {
       "model_id": "89ff0570e96645dd9c01591efb766928",
       "version_major": 2,
       "version_minor": 0
      },
      "text/plain": [
       "  0%|          | 0/129 [00:00<?, ?it/s]"
      ]
     },
     "metadata": {},
     "output_type": "display_data"
    },
    {
     "name": "stdout",
     "output_type": "stream",
     "text": [
      "total_num_correct_preds: 627\n",
      "MAE/RMSE/ACC: | AGEDB-Test: 9.679/12.521/3.805%\n",
      "\n",
      "---------------Epoch_132_model.pt-----------------\n",
      "\n"
     ]
    },
    {
     "data": {
      "application/vnd.jupyter.widget-view+json": {
       "model_id": "8b7942386f644d54b2934dfbfa6ddd6e",
       "version_major": 2,
       "version_minor": 0
      },
      "text/plain": [
       "  0%|          | 0/129 [00:00<?, ?it/s]"
      ]
     },
     "metadata": {},
     "output_type": "display_data"
    },
    {
     "name": "stdout",
     "output_type": "stream",
     "text": [
      "total_num_correct_preds: 582\n",
      "MAE/RMSE/ACC: | AGEDB-Test: 9.566/12.293/3.532%\n",
      "\n",
      "---------------Epoch_133_model.pt-----------------\n",
      "\n"
     ]
    },
    {
     "data": {
      "application/vnd.jupyter.widget-view+json": {
       "model_id": "f5d35968f37047c58bd566b5479d8e05",
       "version_major": 2,
       "version_minor": 0
      },
      "text/plain": [
       "  0%|          | 0/129 [00:00<?, ?it/s]"
      ]
     },
     "metadata": {},
     "output_type": "display_data"
    },
    {
     "name": "stdout",
     "output_type": "stream",
     "text": [
      "total_num_correct_preds: 569\n",
      "MAE/RMSE/ACC: | AGEDB-Test: 9.608/12.458/3.453%\n",
      "\n",
      "---------------Epoch_134_model.pt-----------------\n",
      "\n"
     ]
    },
    {
     "data": {
      "application/vnd.jupyter.widget-view+json": {
       "model_id": "262f9308277e41ff842bc42384cece21",
       "version_major": 2,
       "version_minor": 0
      },
      "text/plain": [
       "  0%|          | 0/129 [00:00<?, ?it/s]"
      ]
     },
     "metadata": {},
     "output_type": "display_data"
    },
    {
     "name": "stdout",
     "output_type": "stream",
     "text": [
      "total_num_correct_preds: 593\n",
      "MAE/RMSE/ACC: | AGEDB-Test: 9.627/12.436/3.599%\n",
      "\n",
      "---------------Epoch_135_model.pt-----------------\n",
      "\n"
     ]
    },
    {
     "data": {
      "application/vnd.jupyter.widget-view+json": {
       "model_id": "01e322cb0d9a493bb9fccaa95c821cb8",
       "version_major": 2,
       "version_minor": 0
      },
      "text/plain": [
       "  0%|          | 0/129 [00:00<?, ?it/s]"
      ]
     },
     "metadata": {},
     "output_type": "display_data"
    },
    {
     "name": "stdout",
     "output_type": "stream",
     "text": [
      "total_num_correct_preds: 586\n",
      "MAE/RMSE/ACC: | AGEDB-Test: 9.634/12.401/3.556%\n",
      "\n",
      "---------------Epoch_136_model.pt-----------------\n",
      "\n"
     ]
    },
    {
     "data": {
      "application/vnd.jupyter.widget-view+json": {
       "model_id": "e205fd1c97f34fcca265f98236cf581f",
       "version_major": 2,
       "version_minor": 0
      },
      "text/plain": [
       "  0%|          | 0/129 [00:00<?, ?it/s]"
      ]
     },
     "metadata": {},
     "output_type": "display_data"
    },
    {
     "name": "stdout",
     "output_type": "stream",
     "text": [
      "total_num_correct_preds: 593\n",
      "MAE/RMSE/ACC: | AGEDB-Test: 9.498/12.167/3.599%\n",
      "\n",
      "---------------Epoch_137_model.pt-----------------\n",
      "\n"
     ]
    },
    {
     "data": {
      "application/vnd.jupyter.widget-view+json": {
       "model_id": "8fdf63ab0b1a468097522cb4286c1581",
       "version_major": 2,
       "version_minor": 0
      },
      "text/plain": [
       "  0%|          | 0/129 [00:00<?, ?it/s]"
      ]
     },
     "metadata": {},
     "output_type": "display_data"
    },
    {
     "name": "stdout",
     "output_type": "stream",
     "text": [
      "total_num_correct_preds: 600\n",
      "MAE/RMSE/ACC: | AGEDB-Test: 9.623/12.368/3.641%\n",
      "\n",
      "---------------Epoch_138_model.pt-----------------\n",
      "\n"
     ]
    },
    {
     "data": {
      "application/vnd.jupyter.widget-view+json": {
       "model_id": "c887e47c8add45428273ea4ad745c0a4",
       "version_major": 2,
       "version_minor": 0
      },
      "text/plain": [
       "  0%|          | 0/129 [00:00<?, ?it/s]"
      ]
     },
     "metadata": {},
     "output_type": "display_data"
    },
    {
     "name": "stdout",
     "output_type": "stream",
     "text": [
      "total_num_correct_preds: 543\n",
      "MAE/RMSE/ACC: | AGEDB-Test: 10.542/13.403/3.295%\n",
      "\n",
      "---------------Epoch_139_model.pt-----------------\n",
      "\n"
     ]
    },
    {
     "data": {
      "application/vnd.jupyter.widget-view+json": {
       "model_id": "448814aaef0b4961b90a4d6742334e63",
       "version_major": 2,
       "version_minor": 0
      },
      "text/plain": [
       "  0%|          | 0/129 [00:00<?, ?it/s]"
      ]
     },
     "metadata": {},
     "output_type": "display_data"
    },
    {
     "name": "stdout",
     "output_type": "stream",
     "text": [
      "total_num_correct_preds: 565\n",
      "MAE/RMSE/ACC: | AGEDB-Test: 10.098/13.033/3.429%\n",
      "\n",
      "---------------Epoch_140_model.pt-----------------\n",
      "\n"
     ]
    },
    {
     "data": {
      "application/vnd.jupyter.widget-view+json": {
       "model_id": "17f62cb126df4ea4a6e1c3d237842f8d",
       "version_major": 2,
       "version_minor": 0
      },
      "text/plain": [
       "  0%|          | 0/129 [00:00<?, ?it/s]"
      ]
     },
     "metadata": {},
     "output_type": "display_data"
    },
    {
     "name": "stdout",
     "output_type": "stream",
     "text": [
      "total_num_correct_preds: 564\n",
      "MAE/RMSE/ACC: | AGEDB-Test: 9.786/12.733/3.423%\n",
      "\n",
      "---------------Epoch_141_model.pt-----------------\n",
      "\n"
     ]
    },
    {
     "data": {
      "application/vnd.jupyter.widget-view+json": {
       "model_id": "7dcbcaf17f06463c81d5d0430f475ed7",
       "version_major": 2,
       "version_minor": 0
      },
      "text/plain": [
       "  0%|          | 0/129 [00:00<?, ?it/s]"
      ]
     },
     "metadata": {},
     "output_type": "display_data"
    },
    {
     "name": "stdout",
     "output_type": "stream",
     "text": [
      "total_num_correct_preds: 547\n",
      "MAE/RMSE/ACC: | AGEDB-Test: 9.812/12.589/3.320%\n",
      "\n",
      "---------------Epoch_142_model.pt-----------------\n",
      "\n"
     ]
    },
    {
     "data": {
      "application/vnd.jupyter.widget-view+json": {
       "model_id": "1bf57869f00f4811b0c8656ada87cf1f",
       "version_major": 2,
       "version_minor": 0
      },
      "text/plain": [
       "  0%|          | 0/129 [00:00<?, ?it/s]"
      ]
     },
     "metadata": {},
     "output_type": "display_data"
    },
    {
     "name": "stdout",
     "output_type": "stream",
     "text": [
      "total_num_correct_preds: 539\n",
      "MAE/RMSE/ACC: | AGEDB-Test: 10.220/13.056/3.271%\n",
      "\n",
      "---------------Epoch_143_model.pt-----------------\n",
      "\n"
     ]
    },
    {
     "data": {
      "application/vnd.jupyter.widget-view+json": {
       "model_id": "56dd5e29a404484590eb18060b4bac5b",
       "version_major": 2,
       "version_minor": 0
      },
      "text/plain": [
       "  0%|          | 0/129 [00:00<?, ?it/s]"
      ]
     },
     "metadata": {},
     "output_type": "display_data"
    },
    {
     "name": "stdout",
     "output_type": "stream",
     "text": [
      "total_num_correct_preds: 630\n",
      "MAE/RMSE/ACC: | AGEDB-Test: 9.790/12.502/3.823%\n",
      "\n",
      "---------------Epoch_144_model.pt-----------------\n",
      "\n"
     ]
    },
    {
     "data": {
      "application/vnd.jupyter.widget-view+json": {
       "model_id": "c22820ebc6dc45449365604c9c5e8bda",
       "version_major": 2,
       "version_minor": 0
      },
      "text/plain": [
       "  0%|          | 0/129 [00:00<?, ?it/s]"
      ]
     },
     "metadata": {},
     "output_type": "display_data"
    },
    {
     "name": "stdout",
     "output_type": "stream",
     "text": [
      "total_num_correct_preds: 586\n",
      "MAE/RMSE/ACC: | AGEDB-Test: 9.741/12.488/3.556%\n",
      "\n",
      "---------------Epoch_145_model.pt-----------------\n",
      "\n"
     ]
    },
    {
     "data": {
      "application/vnd.jupyter.widget-view+json": {
       "model_id": "bf15c1b814a24345a6f03b3d15f693a4",
       "version_major": 2,
       "version_minor": 0
      },
      "text/plain": [
       "  0%|          | 0/129 [00:00<?, ?it/s]"
      ]
     },
     "metadata": {},
     "output_type": "display_data"
    },
    {
     "name": "stdout",
     "output_type": "stream",
     "text": [
      "total_num_correct_preds: 588\n",
      "MAE/RMSE/ACC: | AGEDB-Test: 9.736/12.489/3.568%\n",
      "\n",
      "---------------Epoch_146_model.pt-----------------\n",
      "\n"
     ]
    },
    {
     "data": {
      "application/vnd.jupyter.widget-view+json": {
       "model_id": "a0939676ca6e419496e409e25fe33970",
       "version_major": 2,
       "version_minor": 0
      },
      "text/plain": [
       "  0%|          | 0/129 [00:00<?, ?it/s]"
      ]
     },
     "metadata": {},
     "output_type": "display_data"
    },
    {
     "name": "stdout",
     "output_type": "stream",
     "text": [
      "total_num_correct_preds: 590\n",
      "MAE/RMSE/ACC: | AGEDB-Test: 9.694/12.420/3.581%\n",
      "\n",
      "---------------Epoch_147_model.pt-----------------\n",
      "\n"
     ]
    },
    {
     "data": {
      "application/vnd.jupyter.widget-view+json": {
       "model_id": "4c3d5ce1de8043ab99107cb63c67eb87",
       "version_major": 2,
       "version_minor": 0
      },
      "text/plain": [
       "  0%|          | 0/129 [00:00<?, ?it/s]"
      ]
     },
     "metadata": {},
     "output_type": "display_data"
    },
    {
     "name": "stdout",
     "output_type": "stream",
     "text": [
      "total_num_correct_preds: 606\n",
      "MAE/RMSE/ACC: | AGEDB-Test: 9.684/12.426/3.678%\n",
      "\n",
      "---------------Epoch_148_model.pt-----------------\n",
      "\n"
     ]
    },
    {
     "data": {
      "application/vnd.jupyter.widget-view+json": {
       "model_id": "8b1833910d394518ae70882d7a8cae69",
       "version_major": 2,
       "version_minor": 0
      },
      "text/plain": [
       "  0%|          | 0/129 [00:00<?, ?it/s]"
      ]
     },
     "metadata": {},
     "output_type": "display_data"
    },
    {
     "name": "stdout",
     "output_type": "stream",
     "text": [
      "total_num_correct_preds: 543\n",
      "MAE/RMSE/ACC: | AGEDB-Test: 9.749/12.488/3.295%\n",
      "\n",
      "---------------Epoch_149_model.pt-----------------\n",
      "\n"
     ]
    },
    {
     "data": {
      "application/vnd.jupyter.widget-view+json": {
       "model_id": "3b30aef4c11447a6b6111f2117dabe26",
       "version_major": 2,
       "version_minor": 0
      },
      "text/plain": [
       "  0%|          | 0/129 [00:00<?, ?it/s]"
      ]
     },
     "metadata": {},
     "output_type": "display_data"
    },
    {
     "name": "stdout",
     "output_type": "stream",
     "text": [
      "total_num_correct_preds: 611\n",
      "MAE/RMSE/ACC: | AGEDB-Test: 9.574/12.303/3.708%\n",
      "\n",
      "---------------Epoch_150_model.pt-----------------\n",
      "\n"
     ]
    },
    {
     "data": {
      "application/vnd.jupyter.widget-view+json": {
       "model_id": "aa03cc064ad74a268c30639c0201315b",
       "version_major": 2,
       "version_minor": 0
      },
      "text/plain": [
       "  0%|          | 0/129 [00:00<?, ?it/s]"
      ]
     },
     "metadata": {},
     "output_type": "display_data"
    },
    {
     "name": "stdout",
     "output_type": "stream",
     "text": [
      "total_num_correct_preds: 558\n",
      "MAE/RMSE/ACC: | AGEDB-Test: 10.057/12.825/3.386%\n",
      "\n",
      "---------------Epoch_151_model.pt-----------------\n",
      "\n"
     ]
    },
    {
     "data": {
      "application/vnd.jupyter.widget-view+json": {
       "model_id": "484cd0f5a42b4788bc50e4b7ab828f36",
       "version_major": 2,
       "version_minor": 0
      },
      "text/plain": [
       "  0%|          | 0/129 [00:00<?, ?it/s]"
      ]
     },
     "metadata": {},
     "output_type": "display_data"
    },
    {
     "name": "stdout",
     "output_type": "stream",
     "text": [
      "total_num_correct_preds: 548\n",
      "MAE/RMSE/ACC: | AGEDB-Test: 9.857/12.647/3.326%\n",
      "\n",
      "---------------Epoch_152_model.pt-----------------\n",
      "\n"
     ]
    },
    {
     "data": {
      "application/vnd.jupyter.widget-view+json": {
       "model_id": "fa008e586c8a4535b565849666904441",
       "version_major": 2,
       "version_minor": 0
      },
      "text/plain": [
       "  0%|          | 0/129 [00:00<?, ?it/s]"
      ]
     },
     "metadata": {},
     "output_type": "display_data"
    },
    {
     "name": "stdout",
     "output_type": "stream",
     "text": [
      "total_num_correct_preds: 534\n",
      "MAE/RMSE/ACC: | AGEDB-Test: 9.777/12.513/3.241%\n",
      "\n",
      "---------------Epoch_153_model.pt-----------------\n",
      "\n"
     ]
    },
    {
     "data": {
      "application/vnd.jupyter.widget-view+json": {
       "model_id": "2a1ecd4fa2b54257b578638b23839f3e",
       "version_major": 2,
       "version_minor": 0
      },
      "text/plain": [
       "  0%|          | 0/129 [00:00<?, ?it/s]"
      ]
     },
     "metadata": {},
     "output_type": "display_data"
    },
    {
     "name": "stdout",
     "output_type": "stream",
     "text": [
      "total_num_correct_preds: 548\n",
      "MAE/RMSE/ACC: | AGEDB-Test: 9.901/12.622/3.326%\n",
      "\n",
      "---------------Epoch_154_model.pt-----------------\n",
      "\n"
     ]
    },
    {
     "data": {
      "application/vnd.jupyter.widget-view+json": {
       "model_id": "93dabc8837f9476997b4b259e1a11deb",
       "version_major": 2,
       "version_minor": 0
      },
      "text/plain": [
       "  0%|          | 0/129 [00:00<?, ?it/s]"
      ]
     },
     "metadata": {},
     "output_type": "display_data"
    },
    {
     "name": "stdout",
     "output_type": "stream",
     "text": [
      "total_num_correct_preds: 524\n",
      "MAE/RMSE/ACC: | AGEDB-Test: 9.863/12.579/3.180%\n",
      "\n",
      "---------------Epoch_155_model.pt-----------------\n",
      "\n"
     ]
    },
    {
     "data": {
      "application/vnd.jupyter.widget-view+json": {
       "model_id": "a1cab2bf3a8349fb92f969f9d7ea53d3",
       "version_major": 2,
       "version_minor": 0
      },
      "text/plain": [
       "  0%|          | 0/129 [00:00<?, ?it/s]"
      ]
     },
     "metadata": {},
     "output_type": "display_data"
    },
    {
     "name": "stdout",
     "output_type": "stream",
     "text": [
      "total_num_correct_preds: 580\n",
      "MAE/RMSE/ACC: | AGEDB-Test: 9.693/12.442/3.520%\n",
      "\n",
      "---------------Epoch_156_model.pt-----------------\n",
      "\n"
     ]
    },
    {
     "data": {
      "application/vnd.jupyter.widget-view+json": {
       "model_id": "dbb2bd47f92643e4ac33954b597d148b",
       "version_major": 2,
       "version_minor": 0
      },
      "text/plain": [
       "  0%|          | 0/129 [00:00<?, ?it/s]"
      ]
     },
     "metadata": {},
     "output_type": "display_data"
    },
    {
     "name": "stdout",
     "output_type": "stream",
     "text": [
      "total_num_correct_preds: 570\n",
      "MAE/RMSE/ACC: | AGEDB-Test: 9.651/12.394/3.459%\n",
      "\n",
      "---------------Epoch_157_model.pt-----------------\n",
      "\n"
     ]
    },
    {
     "data": {
      "application/vnd.jupyter.widget-view+json": {
       "model_id": "138bc3559e77470aaaaa5a31fe2ebc32",
       "version_major": 2,
       "version_minor": 0
      },
      "text/plain": [
       "  0%|          | 0/129 [00:00<?, ?it/s]"
      ]
     },
     "metadata": {},
     "output_type": "display_data"
    },
    {
     "name": "stdout",
     "output_type": "stream",
     "text": [
      "total_num_correct_preds: 614\n",
      "MAE/RMSE/ACC: | AGEDB-Test: 9.661/12.420/3.726%\n",
      "\n",
      "---------------Epoch_158_model.pt-----------------\n",
      "\n"
     ]
    },
    {
     "data": {
      "application/vnd.jupyter.widget-view+json": {
       "model_id": "d4abb5e8af1848518c373bbc54b43130",
       "version_major": 2,
       "version_minor": 0
      },
      "text/plain": [
       "  0%|          | 0/129 [00:00<?, ?it/s]"
      ]
     },
     "metadata": {},
     "output_type": "display_data"
    },
    {
     "name": "stdout",
     "output_type": "stream",
     "text": [
      "total_num_correct_preds: 569\n",
      "MAE/RMSE/ACC: | AGEDB-Test: 9.766/12.587/3.453%\n",
      "\n",
      "---------------Epoch_159_model.pt-----------------\n",
      "\n"
     ]
    },
    {
     "data": {
      "application/vnd.jupyter.widget-view+json": {
       "model_id": "8de4459d86b3476580f5deceebd5c07f",
       "version_major": 2,
       "version_minor": 0
      },
      "text/plain": [
       "  0%|          | 0/129 [00:00<?, ?it/s]"
      ]
     },
     "metadata": {},
     "output_type": "display_data"
    },
    {
     "name": "stdout",
     "output_type": "stream",
     "text": [
      "total_num_correct_preds: 556\n",
      "MAE/RMSE/ACC: | AGEDB-Test: 9.608/12.377/3.374%\n",
      "\n",
      "---------------Epoch_160_model.pt-----------------\n",
      "\n"
     ]
    },
    {
     "data": {
      "application/vnd.jupyter.widget-view+json": {
       "model_id": "8317a21773064b888c95bbf44d200383",
       "version_major": 2,
       "version_minor": 0
      },
      "text/plain": [
       "  0%|          | 0/129 [00:00<?, ?it/s]"
      ]
     },
     "metadata": {},
     "output_type": "display_data"
    },
    {
     "name": "stdout",
     "output_type": "stream",
     "text": [
      "total_num_correct_preds: 593\n",
      "MAE/RMSE/ACC: | AGEDB-Test: 9.674/12.447/3.599%\n",
      "\n",
      "---------------Epoch_161_model.pt-----------------\n",
      "\n"
     ]
    },
    {
     "data": {
      "application/vnd.jupyter.widget-view+json": {
       "model_id": "3ffec25165de491b839765ce4f5b96da",
       "version_major": 2,
       "version_minor": 0
      },
      "text/plain": [
       "  0%|          | 0/129 [00:00<?, ?it/s]"
      ]
     },
     "metadata": {},
     "output_type": "display_data"
    },
    {
     "name": "stdout",
     "output_type": "stream",
     "text": [
      "total_num_correct_preds: 602\n",
      "MAE/RMSE/ACC: | AGEDB-Test: 9.490/12.189/3.653%\n",
      "\n",
      "---------------Epoch_162_model.pt-----------------\n",
      "\n"
     ]
    },
    {
     "data": {
      "application/vnd.jupyter.widget-view+json": {
       "model_id": "16f87500815a42ffad0d553ed28d3f11",
       "version_major": 2,
       "version_minor": 0
      },
      "text/plain": [
       "  0%|          | 0/129 [00:00<?, ?it/s]"
      ]
     },
     "metadata": {},
     "output_type": "display_data"
    },
    {
     "name": "stdout",
     "output_type": "stream",
     "text": [
      "total_num_correct_preds: 610\n",
      "MAE/RMSE/ACC: | AGEDB-Test: 9.475/12.165/3.702%\n",
      "\n",
      "---------------Epoch_163_model.pt-----------------\n",
      "\n"
     ]
    },
    {
     "data": {
      "application/vnd.jupyter.widget-view+json": {
       "model_id": "d73bd8e17e3f4c6abc328e4caae90936",
       "version_major": 2,
       "version_minor": 0
      },
      "text/plain": [
       "  0%|          | 0/129 [00:00<?, ?it/s]"
      ]
     },
     "metadata": {},
     "output_type": "display_data"
    },
    {
     "name": "stdout",
     "output_type": "stream",
     "text": [
      "total_num_correct_preds: 568\n",
      "MAE/RMSE/ACC: | AGEDB-Test: 9.701/12.529/3.447%\n",
      "\n",
      "---------------Epoch_164_model.pt-----------------\n",
      "\n"
     ]
    },
    {
     "data": {
      "application/vnd.jupyter.widget-view+json": {
       "model_id": "bdd8437f13784b638ab23ffcb279db1d",
       "version_major": 2,
       "version_minor": 0
      },
      "text/plain": [
       "  0%|          | 0/129 [00:00<?, ?it/s]"
      ]
     },
     "metadata": {},
     "output_type": "display_data"
    },
    {
     "name": "stdout",
     "output_type": "stream",
     "text": [
      "total_num_correct_preds: 567\n",
      "MAE/RMSE/ACC: | AGEDB-Test: 9.623/12.456/3.441%\n",
      "\n",
      "---------------Epoch_165_model.pt-----------------\n",
      "\n"
     ]
    },
    {
     "data": {
      "application/vnd.jupyter.widget-view+json": {
       "model_id": "7a4ccf43e7cb4f7ab72467698321d9c6",
       "version_major": 2,
       "version_minor": 0
      },
      "text/plain": [
       "  0%|          | 0/129 [00:00<?, ?it/s]"
      ]
     },
     "metadata": {},
     "output_type": "display_data"
    },
    {
     "name": "stdout",
     "output_type": "stream",
     "text": [
      "total_num_correct_preds: 596\n",
      "MAE/RMSE/ACC: | AGEDB-Test: 9.778/12.657/3.617%\n",
      "\n",
      "---------------Epoch_166_model.pt-----------------\n",
      "\n"
     ]
    },
    {
     "data": {
      "application/vnd.jupyter.widget-view+json": {
       "model_id": "491dca123ee949ecb098085930e2c15a",
       "version_major": 2,
       "version_minor": 0
      },
      "text/plain": [
       "  0%|          | 0/129 [00:00<?, ?it/s]"
      ]
     },
     "metadata": {},
     "output_type": "display_data"
    },
    {
     "name": "stdout",
     "output_type": "stream",
     "text": [
      "total_num_correct_preds: 583\n",
      "MAE/RMSE/ACC: | AGEDB-Test: 9.437/12.191/3.538%\n",
      "\n",
      "---------------Epoch_167_model.pt-----------------\n",
      "\n"
     ]
    },
    {
     "data": {
      "application/vnd.jupyter.widget-view+json": {
       "model_id": "88f362ad5abf42be80dd8932922efc70",
       "version_major": 2,
       "version_minor": 0
      },
      "text/plain": [
       "  0%|          | 0/129 [00:00<?, ?it/s]"
      ]
     },
     "metadata": {},
     "output_type": "display_data"
    },
    {
     "name": "stdout",
     "output_type": "stream",
     "text": [
      "total_num_correct_preds: 566\n",
      "MAE/RMSE/ACC: | AGEDB-Test: 9.663/12.443/3.435%\n",
      "\n",
      "---------------Epoch_168_model.pt-----------------\n",
      "\n"
     ]
    },
    {
     "data": {
      "application/vnd.jupyter.widget-view+json": {
       "model_id": "63fc5fb0427e4c04b245feee1fffb7fb",
       "version_major": 2,
       "version_minor": 0
      },
      "text/plain": [
       "  0%|          | 0/129 [00:00<?, ?it/s]"
      ]
     },
     "metadata": {},
     "output_type": "display_data"
    },
    {
     "name": "stdout",
     "output_type": "stream",
     "text": [
      "total_num_correct_preds: 561\n",
      "MAE/RMSE/ACC: | AGEDB-Test: 9.746/12.515/3.405%\n",
      "\n",
      "---------------Epoch_169_model.pt-----------------\n",
      "\n"
     ]
    },
    {
     "data": {
      "application/vnd.jupyter.widget-view+json": {
       "model_id": "f183c0e293b147018a3df69ded82f31f",
       "version_major": 2,
       "version_minor": 0
      },
      "text/plain": [
       "  0%|          | 0/129 [00:00<?, ?it/s]"
      ]
     },
     "metadata": {},
     "output_type": "display_data"
    },
    {
     "name": "stdout",
     "output_type": "stream",
     "text": [
      "total_num_correct_preds: 565\n",
      "MAE/RMSE/ACC: | AGEDB-Test: 10.044/12.801/3.429%\n",
      "\n",
      "---------------Epoch_170_model.pt-----------------\n",
      "\n"
     ]
    },
    {
     "data": {
      "application/vnd.jupyter.widget-view+json": {
       "model_id": "0b25d506d56845838879703b04fca1c8",
       "version_major": 2,
       "version_minor": 0
      },
      "text/plain": [
       "  0%|          | 0/129 [00:00<?, ?it/s]"
      ]
     },
     "metadata": {},
     "output_type": "display_data"
    },
    {
     "name": "stdout",
     "output_type": "stream",
     "text": [
      "total_num_correct_preds: 583\n",
      "MAE/RMSE/ACC: | AGEDB-Test: 10.492/13.572/3.538%\n",
      "\n",
      "---------------Epoch_171_model.pt-----------------\n",
      "\n"
     ]
    },
    {
     "data": {
      "application/vnd.jupyter.widget-view+json": {
       "model_id": "171d79b498274e77bf045fc029fb8f1c",
       "version_major": 2,
       "version_minor": 0
      },
      "text/plain": [
       "  0%|          | 0/129 [00:00<?, ?it/s]"
      ]
     },
     "metadata": {},
     "output_type": "display_data"
    },
    {
     "name": "stdout",
     "output_type": "stream",
     "text": [
      "total_num_correct_preds: 493\n",
      "MAE/RMSE/ACC: | AGEDB-Test: 11.672/14.810/2.992%\n",
      "\n",
      "---------------Epoch_172_model.pt-----------------\n",
      "\n"
     ]
    },
    {
     "data": {
      "application/vnd.jupyter.widget-view+json": {
       "model_id": "075cac5277c948ff956f8e6d3dd15433",
       "version_major": 2,
       "version_minor": 0
      },
      "text/plain": [
       "  0%|          | 0/129 [00:00<?, ?it/s]"
      ]
     },
     "metadata": {},
     "output_type": "display_data"
    },
    {
     "name": "stdout",
     "output_type": "stream",
     "text": [
      "total_num_correct_preds: 548\n",
      "MAE/RMSE/ACC: | AGEDB-Test: 10.381/13.330/3.326%\n",
      "\n",
      "---------------Epoch_173_model.pt-----------------\n",
      "\n"
     ]
    },
    {
     "data": {
      "application/vnd.jupyter.widget-view+json": {
       "model_id": "1ed6d68bed2b42fb88d372ce5c878e8e",
       "version_major": 2,
       "version_minor": 0
      },
      "text/plain": [
       "  0%|          | 0/129 [00:00<?, ?it/s]"
      ]
     },
     "metadata": {},
     "output_type": "display_data"
    },
    {
     "name": "stdout",
     "output_type": "stream",
     "text": [
      "total_num_correct_preds: 560\n",
      "MAE/RMSE/ACC: | AGEDB-Test: 10.279/13.363/3.398%\n",
      "\n",
      "---------------Epoch_174_model.pt-----------------\n",
      "\n"
     ]
    },
    {
     "data": {
      "application/vnd.jupyter.widget-view+json": {
       "model_id": "07034ab94bbe4b5ba3c53f0b2b911506",
       "version_major": 2,
       "version_minor": 0
      },
      "text/plain": [
       "  0%|          | 0/129 [00:00<?, ?it/s]"
      ]
     },
     "metadata": {},
     "output_type": "display_data"
    },
    {
     "name": "stdout",
     "output_type": "stream",
     "text": [
      "total_num_correct_preds: 528\n",
      "MAE/RMSE/ACC: | AGEDB-Test: 10.035/12.938/3.204%\n",
      "\n",
      "---------------Epoch_175_model.pt-----------------\n",
      "\n"
     ]
    },
    {
     "data": {
      "application/vnd.jupyter.widget-view+json": {
       "model_id": "9647d8afa2214a589cc0d9a5e2bf6d6c",
       "version_major": 2,
       "version_minor": 0
      },
      "text/plain": [
       "  0%|          | 0/129 [00:00<?, ?it/s]"
      ]
     },
     "metadata": {},
     "output_type": "display_data"
    },
    {
     "name": "stdout",
     "output_type": "stream",
     "text": [
      "total_num_correct_preds: 543\n",
      "MAE/RMSE/ACC: | AGEDB-Test: 9.877/12.712/3.295%\n",
      "\n",
      "---------------Epoch_176_model.pt-----------------\n",
      "\n"
     ]
    },
    {
     "data": {
      "application/vnd.jupyter.widget-view+json": {
       "model_id": "6fb27e41ebd14a75a360733563ea26bf",
       "version_major": 2,
       "version_minor": 0
      },
      "text/plain": [
       "  0%|          | 0/129 [00:00<?, ?it/s]"
      ]
     },
     "metadata": {},
     "output_type": "display_data"
    },
    {
     "name": "stdout",
     "output_type": "stream",
     "text": [
      "total_num_correct_preds: 515\n",
      "MAE/RMSE/ACC: | AGEDB-Test: 10.170/13.067/3.125%\n",
      "\n",
      "---------------Epoch_177_model.pt-----------------\n",
      "\n"
     ]
    },
    {
     "data": {
      "application/vnd.jupyter.widget-view+json": {
       "model_id": "83fecc4f3b5e496d93393bd195c4d984",
       "version_major": 2,
       "version_minor": 0
      },
      "text/plain": [
       "  0%|          | 0/129 [00:00<?, ?it/s]"
      ]
     },
     "metadata": {},
     "output_type": "display_data"
    },
    {
     "name": "stdout",
     "output_type": "stream",
     "text": [
      "total_num_correct_preds: 556\n",
      "MAE/RMSE/ACC: | AGEDB-Test: 10.104/12.925/3.374%\n",
      "\n",
      "---------------Epoch_178_model.pt-----------------\n",
      "\n"
     ]
    },
    {
     "data": {
      "application/vnd.jupyter.widget-view+json": {
       "model_id": "b06f426baff1455fa8b38e5a146edeca",
       "version_major": 2,
       "version_minor": 0
      },
      "text/plain": [
       "  0%|          | 0/129 [00:00<?, ?it/s]"
      ]
     },
     "metadata": {},
     "output_type": "display_data"
    },
    {
     "name": "stdout",
     "output_type": "stream",
     "text": [
      "total_num_correct_preds: 592\n",
      "MAE/RMSE/ACC: | AGEDB-Test: 9.868/12.678/3.593%\n",
      "\n",
      "---------------Epoch_179_model.pt-----------------\n",
      "\n"
     ]
    },
    {
     "data": {
      "application/vnd.jupyter.widget-view+json": {
       "model_id": "93854441bbd54db9a4c6897f4e5c7141",
       "version_major": 2,
       "version_minor": 0
      },
      "text/plain": [
       "  0%|          | 0/129 [00:00<?, ?it/s]"
      ]
     },
     "metadata": {},
     "output_type": "display_data"
    },
    {
     "name": "stdout",
     "output_type": "stream",
     "text": [
      "total_num_correct_preds: 603\n",
      "MAE/RMSE/ACC: | AGEDB-Test: 9.975/12.822/3.659%\n",
      "\n",
      "---------------Epoch_180_model.pt-----------------\n",
      "\n"
     ]
    },
    {
     "data": {
      "application/vnd.jupyter.widget-view+json": {
       "model_id": "ff1aa04c150740939df9931c2e383df2",
       "version_major": 2,
       "version_minor": 0
      },
      "text/plain": [
       "  0%|          | 0/129 [00:00<?, ?it/s]"
      ]
     },
     "metadata": {},
     "output_type": "display_data"
    },
    {
     "name": "stdout",
     "output_type": "stream",
     "text": [
      "total_num_correct_preds: 491\n",
      "MAE/RMSE/ACC: | AGEDB-Test: 10.734/13.568/2.980%\n",
      "\n",
      "---------------Epoch_181_model.pt-----------------\n",
      "\n"
     ]
    },
    {
     "data": {
      "application/vnd.jupyter.widget-view+json": {
       "model_id": "8df8cddaf1fe432b9d481d38365a0eba",
       "version_major": 2,
       "version_minor": 0
      },
      "text/plain": [
       "  0%|          | 0/129 [00:00<?, ?it/s]"
      ]
     },
     "metadata": {},
     "output_type": "display_data"
    },
    {
     "name": "stdout",
     "output_type": "stream",
     "text": [
      "total_num_correct_preds: 576\n",
      "MAE/RMSE/ACC: | AGEDB-Test: 10.034/12.888/3.496%\n",
      "\n",
      "---------------Epoch_182_model.pt-----------------\n",
      "\n"
     ]
    },
    {
     "data": {
      "application/vnd.jupyter.widget-view+json": {
       "model_id": "6f6b8ee74e9f40f090ffb1ebf2f4e9e3",
       "version_major": 2,
       "version_minor": 0
      },
      "text/plain": [
       "  0%|          | 0/129 [00:00<?, ?it/s]"
      ]
     },
     "metadata": {},
     "output_type": "display_data"
    },
    {
     "name": "stdout",
     "output_type": "stream",
     "text": [
      "total_num_correct_preds: 573\n",
      "MAE/RMSE/ACC: | AGEDB-Test: 10.004/12.791/3.477%\n",
      "\n",
      "---------------Epoch_183_model.pt-----------------\n",
      "\n"
     ]
    },
    {
     "data": {
      "application/vnd.jupyter.widget-view+json": {
       "model_id": "76162e1f881049d9b45be827f7031d76",
       "version_major": 2,
       "version_minor": 0
      },
      "text/plain": [
       "  0%|          | 0/129 [00:00<?, ?it/s]"
      ]
     },
     "metadata": {},
     "output_type": "display_data"
    },
    {
     "name": "stdout",
     "output_type": "stream",
     "text": [
      "total_num_correct_preds: 576\n",
      "MAE/RMSE/ACC: | AGEDB-Test: 9.798/12.604/3.496%\n",
      "\n",
      "---------------Epoch_184_model.pt-----------------\n",
      "\n"
     ]
    },
    {
     "data": {
      "application/vnd.jupyter.widget-view+json": {
       "model_id": "d9925f1ec15d4570b66459ee0d2c805e",
       "version_major": 2,
       "version_minor": 0
      },
      "text/plain": [
       "  0%|          | 0/129 [00:00<?, ?it/s]"
      ]
     },
     "metadata": {},
     "output_type": "display_data"
    },
    {
     "name": "stdout",
     "output_type": "stream",
     "text": [
      "total_num_correct_preds: 596\n",
      "MAE/RMSE/ACC: | AGEDB-Test: 9.787/12.596/3.617%\n",
      "\n",
      "---------------Epoch_185_model.pt-----------------\n",
      "\n"
     ]
    },
    {
     "data": {
      "application/vnd.jupyter.widget-view+json": {
       "model_id": "37f2b4d70ffb4efd949a59177e8594f6",
       "version_major": 2,
       "version_minor": 0
      },
      "text/plain": [
       "  0%|          | 0/129 [00:00<?, ?it/s]"
      ]
     },
     "metadata": {},
     "output_type": "display_data"
    },
    {
     "name": "stdout",
     "output_type": "stream",
     "text": [
      "total_num_correct_preds: 594\n",
      "MAE/RMSE/ACC: | AGEDB-Test: 9.635/12.449/3.605%\n",
      "\n",
      "---------------Epoch_186_model.pt-----------------\n",
      "\n"
     ]
    },
    {
     "data": {
      "application/vnd.jupyter.widget-view+json": {
       "model_id": "c05f59d786c44f69adde56007fcd67ad",
       "version_major": 2,
       "version_minor": 0
      },
      "text/plain": [
       "  0%|          | 0/129 [00:00<?, ?it/s]"
      ]
     },
     "metadata": {},
     "output_type": "display_data"
    },
    {
     "name": "stdout",
     "output_type": "stream",
     "text": [
      "total_num_correct_preds: 592\n",
      "MAE/RMSE/ACC: | AGEDB-Test: 10.365/13.351/3.593%\n",
      "\n",
      "---------------Epoch_187_model.pt-----------------\n",
      "\n"
     ]
    },
    {
     "data": {
      "application/vnd.jupyter.widget-view+json": {
       "model_id": "52abbc6561504063a23613443fa912be",
       "version_major": 2,
       "version_minor": 0
      },
      "text/plain": [
       "  0%|          | 0/129 [00:00<?, ?it/s]"
      ]
     },
     "metadata": {},
     "output_type": "display_data"
    },
    {
     "name": "stdout",
     "output_type": "stream",
     "text": [
      "total_num_correct_preds: 483\n",
      "MAE/RMSE/ACC: | AGEDB-Test: 11.612/14.815/2.931%\n",
      "\n",
      "---------------Epoch_188_model.pt-----------------\n",
      "\n"
     ]
    },
    {
     "data": {
      "application/vnd.jupyter.widget-view+json": {
       "model_id": "8da23a9b25084fcfa279c348f3e0e46e",
       "version_major": 2,
       "version_minor": 0
      },
      "text/plain": [
       "  0%|          | 0/129 [00:00<?, ?it/s]"
      ]
     },
     "metadata": {},
     "output_type": "display_data"
    },
    {
     "name": "stdout",
     "output_type": "stream",
     "text": [
      "total_num_correct_preds: 523\n",
      "MAE/RMSE/ACC: | AGEDB-Test: 10.705/13.701/3.174%\n",
      "\n",
      "---------------Epoch_189_model.pt-----------------\n",
      "\n"
     ]
    },
    {
     "data": {
      "application/vnd.jupyter.widget-view+json": {
       "model_id": "3d727467d5864dd4929dbc7804a84eda",
       "version_major": 2,
       "version_minor": 0
      },
      "text/plain": [
       "  0%|          | 0/129 [00:00<?, ?it/s]"
      ]
     },
     "metadata": {},
     "output_type": "display_data"
    },
    {
     "name": "stdout",
     "output_type": "stream",
     "text": [
      "total_num_correct_preds: 506\n",
      "MAE/RMSE/ACC: | AGEDB-Test: 10.407/13.202/3.071%\n",
      "\n",
      "---------------Epoch_190_model.pt-----------------\n",
      "\n"
     ]
    },
    {
     "data": {
      "application/vnd.jupyter.widget-view+json": {
       "model_id": "d3d4897301944db191537323468055f0",
       "version_major": 2,
       "version_minor": 0
      },
      "text/plain": [
       "  0%|          | 0/129 [00:00<?, ?it/s]"
      ]
     },
     "metadata": {},
     "output_type": "display_data"
    },
    {
     "name": "stdout",
     "output_type": "stream",
     "text": [
      "total_num_correct_preds: 552\n",
      "MAE/RMSE/ACC: | AGEDB-Test: 9.980/12.771/3.350%\n",
      "\n",
      "---------------Epoch_191_model.pt-----------------\n",
      "\n"
     ]
    },
    {
     "data": {
      "application/vnd.jupyter.widget-view+json": {
       "model_id": "585f6e8ce3fb463286afa8b6a45faae4",
       "version_major": 2,
       "version_minor": 0
      },
      "text/plain": [
       "  0%|          | 0/129 [00:00<?, ?it/s]"
      ]
     },
     "metadata": {},
     "output_type": "display_data"
    },
    {
     "name": "stdout",
     "output_type": "stream",
     "text": [
      "total_num_correct_preds: 591\n",
      "MAE/RMSE/ACC: | AGEDB-Test: 9.890/12.638/3.587%\n",
      "\n",
      "---------------Epoch_192_model.pt-----------------\n",
      "\n"
     ]
    },
    {
     "data": {
      "application/vnd.jupyter.widget-view+json": {
       "model_id": "6c3c3d417e124b2891a4d628133d8073",
       "version_major": 2,
       "version_minor": 0
      },
      "text/plain": [
       "  0%|          | 0/129 [00:00<?, ?it/s]"
      ]
     },
     "metadata": {},
     "output_type": "display_data"
    },
    {
     "name": "stdout",
     "output_type": "stream",
     "text": [
      "total_num_correct_preds: 561\n",
      "MAE/RMSE/ACC: | AGEDB-Test: 9.994/12.813/3.405%\n",
      "\n",
      "---------------Epoch_193_model.pt-----------------\n",
      "\n"
     ]
    },
    {
     "data": {
      "application/vnd.jupyter.widget-view+json": {
       "model_id": "7f45c82385394420b4034923a9dd81fa",
       "version_major": 2,
       "version_minor": 0
      },
      "text/plain": [
       "  0%|          | 0/129 [00:00<?, ?it/s]"
      ]
     },
     "metadata": {},
     "output_type": "display_data"
    },
    {
     "name": "stdout",
     "output_type": "stream",
     "text": [
      "total_num_correct_preds: 598\n",
      "MAE/RMSE/ACC: | AGEDB-Test: 9.814/12.567/3.629%\n",
      "\n",
      "---------------Epoch_194_model.pt-----------------\n",
      "\n"
     ]
    },
    {
     "data": {
      "application/vnd.jupyter.widget-view+json": {
       "model_id": "98a15dbc349448aca2f655fee85364d1",
       "version_major": 2,
       "version_minor": 0
      },
      "text/plain": [
       "  0%|          | 0/129 [00:00<?, ?it/s]"
      ]
     },
     "metadata": {},
     "output_type": "display_data"
    },
    {
     "name": "stdout",
     "output_type": "stream",
     "text": [
      "total_num_correct_preds: 598\n",
      "MAE/RMSE/ACC: | AGEDB-Test: 9.940/12.771/3.629%\n",
      "\n",
      "---------------Epoch_195_model.pt-----------------\n",
      "\n"
     ]
    },
    {
     "data": {
      "application/vnd.jupyter.widget-view+json": {
       "model_id": "b5966e49a9bf4386ab1e901d525a3516",
       "version_major": 2,
       "version_minor": 0
      },
      "text/plain": [
       "  0%|          | 0/129 [00:00<?, ?it/s]"
      ]
     },
     "metadata": {},
     "output_type": "display_data"
    },
    {
     "name": "stdout",
     "output_type": "stream",
     "text": [
      "total_num_correct_preds: 575\n",
      "MAE/RMSE/ACC: | AGEDB-Test: 10.028/12.869/3.490%\n",
      "\n",
      "---------------Epoch_196_model.pt-----------------\n",
      "\n"
     ]
    },
    {
     "data": {
      "application/vnd.jupyter.widget-view+json": {
       "model_id": "57f55aa253fa44d1b4fbd8113cfeaa84",
       "version_major": 2,
       "version_minor": 0
      },
      "text/plain": [
       "  0%|          | 0/129 [00:00<?, ?it/s]"
      ]
     },
     "metadata": {},
     "output_type": "display_data"
    },
    {
     "name": "stdout",
     "output_type": "stream",
     "text": [
      "total_num_correct_preds: 568\n",
      "MAE/RMSE/ACC: | AGEDB-Test: 10.165/12.963/3.447%\n",
      "\n",
      "---------------Epoch_197_model.pt-----------------\n",
      "\n"
     ]
    },
    {
     "data": {
      "application/vnd.jupyter.widget-view+json": {
       "model_id": "73d2a5b960764cab94ebda7ffe77789c",
       "version_major": 2,
       "version_minor": 0
      },
      "text/plain": [
       "  0%|          | 0/129 [00:00<?, ?it/s]"
      ]
     },
     "metadata": {},
     "output_type": "display_data"
    },
    {
     "name": "stdout",
     "output_type": "stream",
     "text": [
      "total_num_correct_preds: 562\n",
      "MAE/RMSE/ACC: | AGEDB-Test: 9.826/12.557/3.411%\n",
      "\n",
      "---------------Epoch_198_model.pt-----------------\n",
      "\n"
     ]
    },
    {
     "data": {
      "application/vnd.jupyter.widget-view+json": {
       "model_id": "4445429072bc4b26895f23b76b6921bc",
       "version_major": 2,
       "version_minor": 0
      },
      "text/plain": [
       "  0%|          | 0/129 [00:00<?, ?it/s]"
      ]
     },
     "metadata": {},
     "output_type": "display_data"
    },
    {
     "name": "stdout",
     "output_type": "stream",
     "text": [
      "total_num_correct_preds: 562\n",
      "MAE/RMSE/ACC: | AGEDB-Test: 9.914/12.745/3.411%\n",
      "\n",
      "---------------Epoch_199_model.pt-----------------\n",
      "\n"
     ]
    },
    {
     "data": {
      "application/vnd.jupyter.widget-view+json": {
       "model_id": "d52d55a459be4dadbea72526db314423",
       "version_major": 2,
       "version_minor": 0
      },
      "text/plain": [
       "  0%|          | 0/129 [00:00<?, ?it/s]"
      ]
     },
     "metadata": {},
     "output_type": "display_data"
    },
    {
     "name": "stdout",
     "output_type": "stream",
     "text": [
      "total_num_correct_preds: 580\n",
      "MAE/RMSE/ACC: | AGEDB-Test: 9.805/12.650/3.520%\n",
      "\n",
      "---------------Epoch_200_model.pt-----------------\n",
      "\n"
     ]
    },
    {
     "data": {
      "application/vnd.jupyter.widget-view+json": {
       "model_id": "81b5905c12f84ea3a34d9cdd596628d0",
       "version_major": 2,
       "version_minor": 0
      },
      "text/plain": [
       "  0%|          | 0/129 [00:00<?, ?it/s]"
      ]
     },
     "metadata": {},
     "output_type": "display_data"
    },
    {
     "name": "stdout",
     "output_type": "stream",
     "text": [
      "total_num_correct_preds: 553\n",
      "MAE/RMSE/ACC: | AGEDB-Test: 9.743/12.455/3.356%\n",
      "\n",
      "Time elapsed: 924.984mins\n",
      "\n"
     ]
    }
   ],
   "source": [
    "lists = [i for i in range(1,201)] # number epochs to evaluate\n",
    "result_dict = {}\n",
    "\n",
    "start_time = time.time()\n",
    "test_mae = test_mse = test_acc = 0.0\n",
    "for i in tqdm(lists):\n",
    "  model_name = f'Epoch_{i}_model.pt'\n",
    "  model.load_state_dict(torch.load(os.path.join(PATH, model_name)))\n",
    "  model.to(DEVICE)\n",
    "  model.eval()\n",
    "\n",
    "  with torch.set_grad_enabled(False):\n",
    "    str0 = f'---------------{model_name}-----------------\\n'\n",
    "    print(str0)\n",
    "    test_mae, test_mse, test_acc = compute_mae_and_mse(model, test_loader, device=DEVICE)\n",
    "    \n",
    "    result_dict[model_name] = test_mae    \n",
    "    str1 = f'MAE/RMSE/ACC: | AGEDB-Test: {test_mae}/{test_mse}/{test_acc}%\\n'\n",
    "    str = str0+str1\n",
    "    print(str1)\n",
    "    with open(LOGFILE, 'a') as f: f.write(f'{str}\\n')\n",
    "    \n",
    "time_elapsed = format((time.time() - start_time)/60, \".3f\")\n",
    "str = f'Time elapsed: {time_elapsed}mins\\n'\n",
    "print(str)\n",
    "with open(LOGFILE, 'a') as f: f.write(f'{str}')"
   ]
  },
  {
   "cell_type": "code",
   "execution_count": 22,
   "metadata": {
    "id": "p6rgKLyqwxKV"
   },
   "outputs": [],
   "source": [
    "result_list = sorted(result_dict.items(), key=lambda item:float(item[1]))"
   ]
  },
  {
   "cell_type": "code",
   "execution_count": 23,
   "metadata": {
    "id": "x1iur3kg116F"
   },
   "outputs": [
    {
     "name": "stdout",
     "output_type": "stream",
     "text": [
      "Epoch_51_model.pt 9.392\n",
      "\n",
      "Epoch_49_model.pt 9.400\n",
      "\n",
      "Epoch_166_model.pt 9.437\n",
      "\n",
      "Epoch_44_model.pt 9.453\n",
      "\n",
      "Epoch_124_model.pt 9.458\n",
      "\n",
      "Epoch_43_model.pt 9.462\n",
      "\n",
      "Epoch_120_model.pt 9.475\n",
      "\n",
      "Epoch_162_model.pt 9.475\n",
      "\n",
      "Epoch_73_model.pt 9.479\n",
      "\n",
      "Epoch_121_model.pt 9.488\n",
      "\n",
      "Epoch_161_model.pt 9.490\n",
      "\n",
      "Epoch_136_model.pt 9.498\n",
      "\n",
      "Epoch_50_model.pt 9.507\n",
      "\n",
      "Epoch_129_model.pt 9.544\n",
      "\n",
      "Epoch_75_model.pt 9.550\n",
      "\n",
      "Epoch_128_model.pt 9.554\n",
      "\n",
      "Epoch_100_model.pt 9.565\n",
      "\n",
      "Epoch_132_model.pt 9.566\n",
      "\n",
      "Epoch_81_model.pt 9.569\n",
      "\n",
      "Epoch_60_model.pt 9.571\n",
      "\n",
      "Epoch_149_model.pt 9.574\n",
      "\n",
      "Epoch_117_model.pt 9.575\n",
      "\n",
      "Epoch_122_model.pt 9.577\n",
      "\n",
      "Epoch_127_model.pt 9.579\n",
      "\n",
      "Epoch_47_model.pt 9.583\n",
      "\n",
      "Epoch_104_model.pt 9.593\n",
      "\n",
      "Epoch_116_model.pt 9.597\n",
      "\n",
      "Epoch_72_model.pt 9.598\n",
      "\n",
      "Epoch_103_model.pt 9.599\n",
      "\n",
      "Epoch_133_model.pt 9.608\n",
      "\n",
      "Epoch_159_model.pt 9.608\n",
      "\n",
      "Epoch_46_model.pt 9.609\n",
      "\n",
      "Epoch_76_model.pt 9.612\n",
      "\n",
      "Epoch_64_model.pt 9.614\n",
      "\n",
      "Epoch_106_model.pt 9.616\n",
      "\n",
      "Epoch_137_model.pt 9.623\n",
      "\n",
      "Epoch_164_model.pt 9.623\n",
      "\n",
      "Epoch_99_model.pt 9.625\n",
      "\n",
      "Epoch_119_model.pt 9.627\n",
      "\n",
      "Epoch_134_model.pt 9.627\n",
      "\n",
      "Epoch_135_model.pt 9.634\n",
      "\n",
      "Epoch_185_model.pt 9.635\n",
      "\n",
      "Epoch_59_model.pt 9.639\n",
      "\n",
      "Epoch_58_model.pt 9.642\n",
      "\n",
      "Epoch_97_model.pt 9.642\n",
      "\n",
      "Epoch_118_model.pt 9.644\n",
      "\n",
      "Epoch_114_model.pt 9.649\n",
      "\n",
      "Epoch_156_model.pt 9.651\n",
      "\n",
      "Epoch_123_model.pt 9.654\n",
      "\n",
      "Epoch_45_model.pt 9.658\n",
      "\n",
      "Epoch_157_model.pt 9.661\n",
      "\n",
      "Epoch_167_model.pt 9.663\n",
      "\n",
      "Epoch_98_model.pt 9.672\n",
      "\n",
      "Epoch_160_model.pt 9.674\n",
      "\n",
      "Epoch_102_model.pt 9.678\n",
      "\n",
      "Epoch_115_model.pt 9.679\n",
      "\n",
      "Epoch_131_model.pt 9.679\n",
      "\n",
      "Epoch_147_model.pt 9.684\n",
      "\n",
      "Epoch_70_model.pt 9.686\n",
      "\n",
      "Epoch_95_model.pt 9.691\n",
      "\n",
      "Epoch_155_model.pt 9.693\n",
      "\n",
      "Epoch_69_model.pt 9.694\n",
      "\n",
      "Epoch_96_model.pt 9.694\n",
      "\n",
      "Epoch_146_model.pt 9.694\n",
      "\n",
      "Epoch_163_model.pt 9.701\n",
      "\n",
      "Epoch_74_model.pt 9.704\n",
      "\n",
      "Epoch_93_model.pt 9.707\n",
      "\n",
      "Epoch_113_model.pt 9.709\n",
      "\n",
      "Epoch_92_model.pt 9.713\n",
      "\n",
      "Epoch_71_model.pt 9.716\n",
      "\n",
      "Epoch_84_model.pt 9.728\n",
      "\n",
      "Epoch_79_model.pt 9.729\n",
      "\n",
      "Epoch_85_model.pt 9.732\n",
      "\n",
      "Epoch_111_model.pt 9.733\n",
      "\n",
      "Epoch_56_model.pt 9.734\n",
      "\n",
      "Epoch_112_model.pt 9.735\n",
      "\n",
      "Epoch_145_model.pt 9.736\n",
      "\n",
      "Epoch_78_model.pt 9.738\n",
      "\n",
      "Epoch_144_model.pt 9.741\n",
      "\n",
      "Epoch_200_model.pt 9.743\n",
      "\n",
      "Epoch_35_model.pt 9.746\n",
      "\n",
      "Epoch_168_model.pt 9.746\n",
      "\n",
      "Epoch_148_model.pt 9.749\n",
      "\n",
      "Epoch_105_model.pt 9.751\n",
      "\n",
      "Epoch_80_model.pt 9.757\n",
      "\n",
      "Epoch_158_model.pt 9.766\n",
      "\n",
      "Epoch_63_model.pt 9.770\n",
      "\n",
      "Epoch_89_model.pt 9.775\n",
      "\n",
      "Epoch_152_model.pt 9.777\n",
      "\n",
      "Epoch_165_model.pt 9.778\n",
      "\n",
      "Epoch_82_model.pt 9.784\n",
      "\n",
      "Epoch_140_model.pt 9.786\n",
      "\n",
      "Epoch_184_model.pt 9.787\n",
      "\n",
      "Epoch_42_model.pt 9.788\n",
      "\n",
      "Epoch_143_model.pt 9.790\n",
      "\n",
      "Epoch_183_model.pt 9.798\n",
      "\n",
      "Epoch_94_model.pt 9.803\n",
      "\n",
      "Epoch_83_model.pt 9.804\n",
      "\n",
      "Epoch_126_model.pt 9.805\n",
      "\n",
      "Epoch_199_model.pt 9.805\n",
      "\n",
      "Epoch_91_model.pt 9.808\n",
      "\n",
      "Epoch_108_model.pt 9.811\n",
      "\n",
      "Epoch_141_model.pt 9.812\n",
      "\n",
      "Epoch_193_model.pt 9.814\n",
      "\n",
      "Epoch_36_model.pt 9.820\n",
      "\n",
      "Epoch_197_model.pt 9.826\n",
      "\n",
      "Epoch_151_model.pt 9.857\n",
      "\n",
      "Epoch_154_model.pt 9.863\n",
      "\n",
      "Epoch_101_model.pt 9.867\n",
      "\n",
      "Epoch_178_model.pt 9.868\n",
      "\n",
      "Epoch_77_model.pt 9.875\n",
      "\n",
      "Epoch_175_model.pt 9.877\n",
      "\n",
      "Epoch_90_model.pt 9.883\n",
      "\n",
      "Epoch_191_model.pt 9.890\n",
      "\n",
      "Epoch_153_model.pt 9.901\n",
      "\n",
      "Epoch_68_model.pt 9.914\n",
      "\n",
      "Epoch_198_model.pt 9.914\n",
      "\n",
      "Epoch_194_model.pt 9.940\n",
      "\n",
      "Epoch_33_model.pt 9.953\n",
      "\n",
      "Epoch_37_model.pt 9.959\n",
      "\n",
      "Epoch_179_model.pt 9.975\n",
      "\n",
      "Epoch_55_model.pt 9.980\n",
      "\n",
      "Epoch_190_model.pt 9.980\n",
      "\n",
      "Epoch_192_model.pt 9.994\n",
      "\n",
      "Epoch_182_model.pt 10.004\n",
      "\n",
      "Epoch_41_model.pt 10.023\n",
      "\n",
      "Epoch_195_model.pt 10.028\n",
      "\n",
      "Epoch_62_model.pt 10.029\n",
      "\n",
      "Epoch_181_model.pt 10.034\n",
      "\n",
      "Epoch_174_model.pt 10.035\n",
      "\n",
      "Epoch_38_model.pt 10.039\n",
      "\n",
      "Epoch_169_model.pt 10.044\n",
      "\n",
      "Epoch_150_model.pt 10.057\n",
      "\n",
      "Epoch_88_model.pt 10.078\n",
      "\n",
      "Epoch_54_model.pt 10.091\n",
      "\n",
      "Epoch_130_model.pt 10.094\n",
      "\n",
      "Epoch_139_model.pt 10.098\n",
      "\n",
      "Epoch_34_model.pt 10.103\n",
      "\n",
      "Epoch_177_model.pt 10.104\n",
      "\n",
      "Epoch_29_model.pt 10.116\n",
      "\n",
      "Epoch_65_model.pt 10.126\n",
      "\n",
      "Epoch_32_model.pt 10.140\n",
      "\n",
      "Epoch_196_model.pt 10.165\n",
      "\n",
      "Epoch_176_model.pt 10.170\n",
      "\n",
      "Epoch_25_model.pt 10.173\n",
      "\n",
      "Epoch_48_model.pt 10.182\n",
      "\n",
      "Epoch_53_model.pt 10.185\n",
      "\n",
      "Epoch_107_model.pt 10.210\n",
      "\n",
      "Epoch_142_model.pt 10.220\n",
      "\n",
      "Epoch_67_model.pt 10.274\n",
      "\n",
      "Epoch_173_model.pt 10.279\n",
      "\n",
      "Epoch_31_model.pt 10.358\n",
      "\n",
      "Epoch_186_model.pt 10.365\n",
      "\n",
      "Epoch_172_model.pt 10.381\n",
      "\n",
      "Epoch_52_model.pt 10.384\n",
      "\n",
      "Epoch_189_model.pt 10.407\n",
      "\n",
      "Epoch_30_model.pt 10.446\n",
      "\n",
      "Epoch_61_model.pt 10.479\n",
      "\n",
      "Epoch_170_model.pt 10.492\n",
      "\n",
      "Epoch_138_model.pt 10.542\n",
      "\n",
      "Epoch_125_model.pt 10.674\n",
      "\n",
      "Epoch_28_model.pt 10.677\n",
      "\n",
      "Epoch_188_model.pt 10.705\n",
      "\n",
      "Epoch_180_model.pt 10.734\n",
      "\n",
      "Epoch_87_model.pt 10.883\n",
      "\n",
      "Epoch_57_model.pt 10.940\n",
      "\n",
      "Epoch_110_model.pt 10.969\n",
      "\n",
      "Epoch_20_model.pt 11.141\n",
      "\n",
      "Epoch_24_model.pt 11.164\n",
      "\n",
      "Epoch_109_model.pt 11.272\n",
      "\n",
      "Epoch_22_model.pt 11.285\n",
      "\n",
      "Epoch_86_model.pt 11.396\n",
      "\n",
      "Epoch_187_model.pt 11.612\n",
      "\n",
      "Epoch_171_model.pt 11.672\n",
      "\n",
      "Epoch_39_model.pt 12.128\n",
      "\n",
      "Epoch_19_model.pt 12.370\n",
      "\n",
      "Epoch_26_model.pt 12.386\n",
      "\n",
      "Epoch_21_model.pt 12.519\n",
      "\n",
      "Epoch_23_model.pt 12.593\n",
      "\n",
      "Epoch_17_model.pt 12.676\n",
      "\n",
      "Epoch_40_model.pt 12.697\n",
      "\n",
      "Epoch_27_model.pt 12.756\n",
      "\n",
      "Epoch_14_model.pt 12.893\n",
      "\n",
      "Epoch_16_model.pt 12.961\n",
      "\n",
      "Epoch_18_model.pt 12.964\n",
      "\n",
      "Epoch_66_model.pt 13.429\n",
      "\n",
      "Epoch_15_model.pt 13.720\n",
      "\n",
      "Epoch_12_model.pt 14.257\n",
      "\n",
      "Epoch_10_model.pt 15.365\n",
      "\n",
      "Epoch_13_model.pt 16.847\n",
      "\n",
      "Epoch_9_model.pt 17.063\n",
      "\n",
      "Epoch_11_model.pt 17.595\n",
      "\n",
      "Epoch_6_model.pt 19.486\n",
      "\n",
      "Epoch_8_model.pt 20.681\n",
      "\n",
      "Epoch_7_model.pt 25.999\n",
      "\n",
      "Epoch_5_model.pt 26.034\n",
      "\n",
      "Epoch_4_model.pt 26.562\n",
      "\n",
      "Epoch_3_model.pt 27.120\n",
      "\n",
      "Epoch_2_model.pt 31.578\n",
      "\n",
      "Epoch_1_model.pt 34.012\n",
      "\n"
     ]
    }
   ],
   "source": [
    "with open(LOGFILE, 'a') as f:\n",
    "    f.write(f'\\n\\n----Result in Sorted Order----\\n\\n')\n",
    "    for item in result_list:\n",
    "        string = f'{item[0]} {item[1]}\\n'\n",
    "        f.write(string)\n",
    "        print(string)\n",
    "        f.flush()"
   ]
  }
 ],
 "metadata": {
  "accelerator": "GPU",
  "colab": {
   "collapsed_sections": [],
   "machine_shape": "hm",
   "name": "Full-UTK-Multi-Pretrained-Model-Evaluate-AgeDB-CORAL.ipynb",
   "provenance": [
    {
     "file_id": "1W_fU7WFJVg6JhJgMBWqS84W5I9DFUcbm",
     "timestamp": 1628873020680
    }
   ]
  },
  "kernelspec": {
   "display_name": "Python 3 (ipykernel)",
   "language": "python",
   "name": "python3"
  },
  "language_info": {
   "codemirror_mode": {
    "name": "ipython",
    "version": 3
   },
   "file_extension": ".py",
   "mimetype": "text/x-python",
   "name": "python",
   "nbconvert_exporter": "python",
   "pygments_lexer": "ipython3",
   "version": "3.9.6"
  }
 },
 "nbformat": 4,
 "nbformat_minor": 1
}
